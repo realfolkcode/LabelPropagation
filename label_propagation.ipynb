{
  "nbformat": 4,
  "nbformat_minor": 0,
  "metadata": {
    "colab": {
      "name": "label-propagation.ipynb",
      "provenance": [],
      "collapsed_sections": [],
      "authorship_tag": "ABX9TyNkKZ893KX37f7sKNufRKI1",
      "include_colab_link": true
    },
    "kernelspec": {
      "name": "python3",
      "display_name": "Python 3"
    },
    "language_info": {
      "name": "python"
    },
    "accelerator": "GPU"
  },
  "cells": [
    {
      "cell_type": "markdown",
      "metadata": {
        "id": "view-in-github",
        "colab_type": "text"
      },
      "source": [
        "<a href=\"https://colab.research.google.com/github/realfolkcode/GraphRegression/blob/master/label_propagation.ipynb\" target=\"_parent\"><img src=\"https://colab.research.google.com/assets/colab-badge.svg\" alt=\"Open In Colab\"/></a>"
      ]
    },
    {
      "cell_type": "markdown",
      "source": [
        "# Import and Install"
      ],
      "metadata": {
        "id": "xNHURTWF2njW"
      }
    },
    {
      "cell_type": "code",
      "source": [
        "import numpy as np\n",
        "import torch\n",
        "from torch import nn\n",
        "from torch.utils.data import DataLoader, TensorDataset\n",
        "from tqdm import tqdm\n",
        "from sklearn.metrics import r2_score\n",
        "import matplotlib.pyplot as plt\n",
        "%matplotlib inline"
      ],
      "metadata": {
        "id": "iwSobebe0bpN"
      },
      "execution_count": 1,
      "outputs": []
    },
    {
      "cell_type": "code",
      "execution_count": 2,
      "metadata": {
        "id": "0_s99v0ivveH",
        "colab": {
          "base_uri": "https://localhost:8080/"
        },
        "outputId": "3f96e521-05dc-43a4-fac4-b04400213771"
      },
      "outputs": [
        {
          "output_type": "stream",
          "name": "stdout",
          "text": [
            "Cloning into 'GraphRegression'...\n",
            "remote: Enumerating objects: 128, done.\u001b[K\n",
            "remote: Counting objects: 100% (128/128), done.\u001b[K\n",
            "remote: Compressing objects: 100% (94/94), done.\u001b[K\n",
            "remote: Total 128 (delta 46), reused 90 (delta 25), pack-reused 0\u001b[K\n",
            "Receiving objects: 100% (128/128), 302.33 KiB | 287.00 KiB/s, done.\n",
            "Resolving deltas: 100% (46/46), done.\n"
          ]
        }
      ],
      "source": [
        "!git clone https://github.com/realfolkcode/GraphRegression.git"
      ]
    },
    {
      "cell_type": "code",
      "source": [
        "from GraphRegression.utils import load_jj_data, set_random_seeds"
      ],
      "metadata": {
        "id": "ORiBZxMMyROR"
      },
      "execution_count": 3,
      "outputs": []
    },
    {
      "cell_type": "code",
      "source": [
        "device = torch.device('cuda:0' if torch.cuda.is_available() else 'cpu')\n",
        "RANDOM_SEED = 0"
      ],
      "metadata": {
        "id": "dzuUALuCUZZP"
      },
      "execution_count": 4,
      "outputs": []
    },
    {
      "cell_type": "markdown",
      "source": [
        "# Process Data"
      ],
      "metadata": {
        "id": "Xo55EtPj2sL1"
      }
    },
    {
      "cell_type": "code",
      "source": [
        "path = \"GraphRegression/data/county/election/2012\"\n",
        "adj, X, y, idx_train, idx_val, idx_test = load_jj_data(path)\n",
        "y = y.reshape(-1, 1)\n",
        "\n",
        "print(\"adj:\", adj.shape)\n",
        "print(\"features:\", X.shape)\n",
        "print(\"labels:\", y.shape)\n",
        "print(\"idx_train:\", idx_train.shape)\n",
        "print(\"idx_val:\", idx_val.shape)\n",
        "print(\"idx_test:\", idx_test.shape)"
      ],
      "metadata": {
        "colab": {
          "base_uri": "https://localhost:8080/"
        },
        "id": "m0YwexjL0htT",
        "outputId": "f32fa6ba-8e56-4118-f104-096f2780f28b"
      },
      "execution_count": 5,
      "outputs": [
        {
          "output_type": "stream",
          "name": "stdout",
          "text": [
            "adj: torch.Size([3234, 3234])\n",
            "features: torch.Size([3234, 6])\n",
            "labels: torch.Size([3234, 1])\n",
            "idx_train: torch.Size([1941])\n",
            "idx_val: torch.Size([646])\n",
            "idx_test: torch.Size([647])\n"
          ]
        }
      ]
    },
    {
      "cell_type": "code",
      "source": [
        "plt.hist(y.flatten())\n",
        "plt.title('Target distribution')\n",
        "plt.show()"
      ],
      "metadata": {
        "colab": {
          "base_uri": "https://localhost:8080/",
          "height": 281
        },
        "id": "eV87JbM_16Q_",
        "outputId": "0858943d-8fc3-4e30-f123-24320546630e"
      },
      "execution_count": 6,
      "outputs": [
        {
          "output_type": "display_data",
          "data": {
            "text/plain": [
              "<Figure size 432x288 with 1 Axes>"
            ],
            "image/png": "[encoded data removed]"
          },
          "metadata": {
            "needs_background": "light"
          }
        }
      ]
    },
    {
      "cell_type": "markdown",
      "source": [
        "# MLP"
      ],
      "metadata": {
        "id": "E0Ff4Wy38itM"
      }
    },
    {
      "cell_type": "code",
      "source": [
        "class MLP(nn.Module):\n",
        "    def __init__(self, n_in):\n",
        "        super().__init__()\n",
        "        self.features = nn.Sequential(\n",
        "            nn.Linear(n_in, 16),\n",
        "            nn.ReLU(),\n",
        "            nn.Linear(16, 16),\n",
        "            nn.ReLU(),\n",
        "        )\n",
        "        self.regressor = nn.Linear(16, 1)\n",
        "    \n",
        "    def forward(self, x):\n",
        "        x = self.features(x)\n",
        "        x = self.regressor(x)\n",
        "        return x"
      ],
      "metadata": {
        "id": "AetzJY5Y6HCV"
      },
      "execution_count": 7,
      "outputs": []
    },
    {
      "cell_type": "code",
      "source": [
        "def epoch_train(model, loader, criterion, opt):\n",
        "    train_loss = 0\n",
        "    model.train()\n",
        "    for data, target in loader:\n",
        "        data = data.to(device)\n",
        "        target = target.to(device)\n",
        "        output = model(data)\n",
        "        loss = criterion(output, target)\n",
        "        opt.zero_grad()\n",
        "        loss.backward()\n",
        "        opt.step()\n",
        "        train_loss += loss.item()\n",
        "    train_loss /= len(loader)\n",
        "    return train_loss"
      ],
      "metadata": {
        "id": "7eCwVkJsa1eY"
      },
      "execution_count": 11,
      "outputs": []
    },
    {
      "cell_type": "code",
      "source": [
        "def epoch_val(model, loader, criterion):\n",
        "    val_loss = 0\n",
        "    target_lst = []\n",
        "    output_lst = []\n",
        "    model.eval()\n",
        "    with torch.no_grad():\n",
        "        for data, target in loader:\n",
        "            data = data.to(device)\n",
        "            target = target.to(device)\n",
        "            output = model(data)\n",
        "            target_lst += target.tolist()\n",
        "            output_lst += output.tolist()\n",
        "            val_loss = criterion(output, target).item()\n",
        "    r2 = r2_score(target_lst, output_lst)\n",
        "    val_loss /= len(loader)\n",
        "    return val_loss, r2"
      ],
      "metadata": {
        "id": "5HpYLR5268O5"
      },
      "execution_count": 12,
      "outputs": []
    },
    {
      "cell_type": "code",
      "source": [
        "set_random_seeds(seed_value=RANDOM_SEED, device=device)\n",
        "\n",
        "mlp = MLP(6).to(device)"
      ],
      "metadata": {
        "id": "blmNnbeaCgSK"
      },
      "execution_count": 36,
      "outputs": []
    },
    {
      "cell_type": "code",
      "source": [
        "criterion = nn.MSELoss()\n",
        "opt = torch.optim.Adam(mlp.parameters())"
      ],
      "metadata": {
        "id": "LTqLsLgrQVAU"
      },
      "execution_count": 37,
      "outputs": []
    },
    {
      "cell_type": "code",
      "source": [
        "batch_size = 128\n",
        "\n",
        "train_loader = DataLoader(TensorDataset(X[idx_train], y[idx_train]), batch_size=batch_size, shuffle=True)\n",
        "val_loader = DataLoader(TensorDataset(X[idx_val], y[idx_val]), batch_size=batch_size, shuffle=False)\n",
        "test_loader = DataLoader(TensorDataset(X[idx_test], y[idx_test]), batch_size=batch_size, shuffle=False)"
      ],
      "metadata": {
        "id": "4_xWfytmZO4c"
      },
      "execution_count": 38,
      "outputs": []
    },
    {
      "cell_type": "code",
      "source": [
        "num_epochs = 75\n",
        "\n",
        "train_loss = []\n",
        "val_loss = []\n",
        "val_r2 = []\n",
        "test_loss = []\n",
        "test_r2 = []\n",
        "\n",
        "for i in tqdm(range(num_epochs)):\n",
        "    loss = epoch_train(mlp, train_loader, criterion, opt)\n",
        "    train_loss.append(np.sqrt(loss))\n",
        "\n",
        "    loss, r2 = epoch_val(mlp, val_loader, criterion)\n",
        "    val_loss.append(np.sqrt(loss))\n",
        "    val_r2.append(r2)\n",
        "\n",
        "    loss, r2 = epoch_val(mlp, test_loader, criterion)\n",
        "    test_loss.append(np.sqrt(loss))\n",
        "    test_r2.append(r2)\n",
        "    print('---------------------------------------------------------')\n",
        "    print(f'Epoch: {i}, Val R2: {val_r2[-1]}, Test R2: {test_r2[-1]}')"
      ],
      "metadata": {
        "colab": {
          "base_uri": "https://localhost:8080/"
        },
        "id": "0xqbAoLR85D-",
        "outputId": "e4911563-f8bb-4ed8-cee5-921a4a86742a"
      },
      "execution_count": 39,
      "outputs": [
        {
          "output_type": "stream",
          "name": "stderr",
          "text": [
            "  3%|▎         | 2/75 [00:00<00:05, 14.59it/s]"
          ]
        },
        {
          "output_type": "stream",
          "name": "stdout",
          "text": [
            "---------------------------------------------------------\n",
            "Epoch: 0, Val R2: -0.002688274325015172, Test R2: 0.045387936383149086\n",
            "---------------------------------------------------------\n",
            "Epoch: 1, Val R2: 0.094400171534195, Test R2: 0.14554112816768894\n",
            "---------------------------------------------------------\n",
            "Epoch: 2, Val R2: 0.1556305820665752, Test R2: 0.2005662957161123\n"
          ]
        },
        {
          "output_type": "stream",
          "name": "stderr",
          "text": [
            "  8%|▊         | 6/75 [00:00<00:05, 13.16it/s]"
          ]
        },
        {
          "output_type": "stream",
          "name": "stdout",
          "text": [
            "---------------------------------------------------------\n",
            "Epoch: 3, Val R2: 0.20069958602537075, Test R2: 0.24136633144980768\n",
            "---------------------------------------------------------\n",
            "Epoch: 4, Val R2: 0.2291284302044363, Test R2: 0.262531413486765\n",
            "---------------------------------------------------------\n",
            "Epoch: 5, Val R2: 0.25388043716797337, Test R2: 0.2794290894069783\n"
          ]
        },
        {
          "output_type": "stream",
          "name": "stderr",
          "text": [
            "\r 11%|█         | 8/75 [00:00<00:05, 13.21it/s]"
          ]
        },
        {
          "output_type": "stream",
          "name": "stdout",
          "text": [
            "---------------------------------------------------------\n",
            "Epoch: 6, Val R2: 0.2676683807085366, Test R2: 0.2903053297987842\n",
            "---------------------------------------------------------\n",
            "Epoch: 7, Val R2: 0.2813743717562649, Test R2: 0.2946627199247738\n",
            "---------------------------------------------------------\n",
            "Epoch: 8, Val R2: 0.2887310838310837, Test R2: 0.2989290459296883\n"
          ]
        },
        {
          "output_type": "stream",
          "name": "stderr",
          "text": [
            " 16%|█▌        | 12/75 [00:00<00:04, 13.62it/s]"
          ]
        },
        {
          "output_type": "stream",
          "name": "stdout",
          "text": [
            "---------------------------------------------------------\n",
            "Epoch: 9, Val R2: 0.2937925660566497, Test R2: 0.3023981116461234\n",
            "---------------------------------------------------------\n",
            "Epoch: 10, Val R2: 0.29770633292867166, Test R2: 0.3037185668406335\n",
            "---------------------------------------------------------\n",
            "Epoch: 11, Val R2: 0.30190181286840256, Test R2: 0.30707818938166753\n"
          ]
        },
        {
          "output_type": "stream",
          "name": "stderr",
          "text": [
            "\r 19%|█▊        | 14/75 [00:01<00:04, 13.52it/s]"
          ]
        },
        {
          "output_type": "stream",
          "name": "stdout",
          "text": [
            "---------------------------------------------------------\n",
            "Epoch: 12, Val R2: 0.3126500582726155, Test R2: 0.3160453880118582\n",
            "---------------------------------------------------------\n",
            "Epoch: 13, Val R2: 0.31258470713808806, Test R2: 0.3129952585912795\n",
            "---------------------------------------------------------\n",
            "Epoch: 14, Val R2: 0.31851204912564257, Test R2: 0.3220454982758092\n"
          ]
        },
        {
          "output_type": "stream",
          "name": "stderr",
          "text": [
            " 24%|██▍       | 18/75 [00:01<00:04, 13.76it/s]"
          ]
        },
        {
          "output_type": "stream",
          "name": "stdout",
          "text": [
            "---------------------------------------------------------\n",
            "Epoch: 15, Val R2: 0.3230206204226139, Test R2: 0.32724516697950623\n",
            "---------------------------------------------------------\n",
            "Epoch: 16, Val R2: 0.32491928530414993, Test R2: 0.32825518943706866\n",
            "---------------------------------------------------------\n",
            "Epoch: 17, Val R2: 0.3277357483431491, Test R2: 0.3303355999445592\n"
          ]
        },
        {
          "output_type": "stream",
          "name": "stderr",
          "text": [
            "\r 27%|██▋       | 20/75 [00:01<00:04, 13.45it/s]"
          ]
        },
        {
          "output_type": "stream",
          "name": "stdout",
          "text": [
            "---------------------------------------------------------\n",
            "Epoch: 18, Val R2: 0.3309782459607815, Test R2: 0.3310277217082681\n",
            "---------------------------------------------------------\n",
            "Epoch: 19, Val R2: 0.3366804972728822, Test R2: 0.3368394688604863\n",
            "---------------------------------------------------------\n",
            "Epoch: 20, Val R2: 0.33678527527312463, Test R2: 0.3314998791779795\n"
          ]
        },
        {
          "output_type": "stream",
          "name": "stderr",
          "text": [
            " 32%|███▏      | 24/75 [00:01<00:03, 13.59it/s]"
          ]
        },
        {
          "output_type": "stream",
          "name": "stdout",
          "text": [
            "---------------------------------------------------------\n",
            "Epoch: 21, Val R2: 0.33990876284756333, Test R2: 0.3369607535206709\n",
            "---------------------------------------------------------\n",
            "Epoch: 22, Val R2: 0.3450030042114739, Test R2: 0.3448767962535385\n",
            "---------------------------------------------------------\n",
            "Epoch: 23, Val R2: 0.3447202237033393, Test R2: 0.3424851812980305\n"
          ]
        },
        {
          "output_type": "stream",
          "name": "stderr",
          "text": [
            "\r 35%|███▍      | 26/75 [00:01<00:03, 13.65it/s]"
          ]
        },
        {
          "output_type": "stream",
          "name": "stdout",
          "text": [
            "---------------------------------------------------------\n",
            "Epoch: 24, Val R2: 0.3510103457519972, Test R2: 0.34777774342559675\n",
            "---------------------------------------------------------\n",
            "Epoch: 25, Val R2: 0.3517254602161798, Test R2: 0.34879655291211475\n",
            "---------------------------------------------------------\n",
            "Epoch: 26, Val R2: 0.3510262257221115, Test R2: 0.3478599716946488\n"
          ]
        },
        {
          "output_type": "stream",
          "name": "stderr",
          "text": [
            " 40%|████      | 30/75 [00:02<00:03, 14.02it/s]"
          ]
        },
        {
          "output_type": "stream",
          "name": "stdout",
          "text": [
            "---------------------------------------------------------\n",
            "Epoch: 27, Val R2: 0.35367838763825044, Test R2: 0.35196516590191196\n",
            "---------------------------------------------------------\n",
            "Epoch: 28, Val R2: 0.3570539384872643, Test R2: 0.35556111112710886\n",
            "---------------------------------------------------------\n",
            "Epoch: 29, Val R2: 0.3572595692711378, Test R2: 0.3577333174955384\n"
          ]
        },
        {
          "output_type": "stream",
          "name": "stderr",
          "text": [
            "\r 43%|████▎     | 32/75 [00:02<00:03, 13.81it/s]"
          ]
        },
        {
          "output_type": "stream",
          "name": "stdout",
          "text": [
            "---------------------------------------------------------\n",
            "Epoch: 30, Val R2: 0.3595321883918924, Test R2: 0.35916315914299024\n",
            "---------------------------------------------------------\n",
            "Epoch: 31, Val R2: 0.3613820545081625, Test R2: 0.3590167869490726\n",
            "---------------------------------------------------------\n",
            "Epoch: 32, Val R2: 0.3622028891896276, Test R2: 0.36089114318272364\n"
          ]
        },
        {
          "output_type": "stream",
          "name": "stderr",
          "text": [
            " 48%|████▊     | 36/75 [00:02<00:02, 13.89it/s]"
          ]
        },
        {
          "output_type": "stream",
          "name": "stdout",
          "text": [
            "---------------------------------------------------------\n",
            "Epoch: 33, Val R2: 0.36464365142117994, Test R2: 0.36788060498777064\n",
            "---------------------------------------------------------\n",
            "Epoch: 34, Val R2: 0.3630242696870457, Test R2: 0.3591080563955067\n",
            "---------------------------------------------------------\n",
            "Epoch: 35, Val R2: 0.3663832172125221, Test R2: 0.36469279290338596\n"
          ]
        },
        {
          "output_type": "stream",
          "name": "stderr",
          "text": [
            "\r 51%|█████     | 38/75 [00:02<00:02, 13.71it/s]"
          ]
        },
        {
          "output_type": "stream",
          "name": "stdout",
          "text": [
            "---------------------------------------------------------\n",
            "Epoch: 36, Val R2: 0.3671627596058924, Test R2: 0.36466649666568574\n",
            "---------------------------------------------------------\n",
            "Epoch: 37, Val R2: 0.3669742089053376, Test R2: 0.36486100970533786\n",
            "---------------------------------------------------------\n",
            "Epoch: 38, Val R2: 0.37006321649638363, Test R2: 0.37258202958177666\n"
          ]
        },
        {
          "output_type": "stream",
          "name": "stderr",
          "text": [
            " 56%|█████▌    | 42/75 [00:03<00:02, 13.65it/s]"
          ]
        },
        {
          "output_type": "stream",
          "name": "stdout",
          "text": [
            "---------------------------------------------------------\n",
            "Epoch: 39, Val R2: 0.369034228555435, Test R2: 0.36634102047550776\n",
            "---------------------------------------------------------\n",
            "Epoch: 40, Val R2: 0.3691581849124853, Test R2: 0.36789145431637504\n",
            "---------------------------------------------------------\n",
            "Epoch: 41, Val R2: 0.36929177010790637, Test R2: 0.3718282082152674\n"
          ]
        },
        {
          "output_type": "stream",
          "name": "stderr",
          "text": [
            "\r 59%|█████▊    | 44/75 [00:03<00:02, 13.57it/s]"
          ]
        },
        {
          "output_type": "stream",
          "name": "stdout",
          "text": [
            "---------------------------------------------------------\n",
            "Epoch: 42, Val R2: 0.3705719585740159, Test R2: 0.3716350135417271\n",
            "---------------------------------------------------------\n",
            "Epoch: 43, Val R2: 0.3718371671351164, Test R2: 0.3739079556766016\n",
            "---------------------------------------------------------\n",
            "Epoch: 44, Val R2: 0.37644737649825144, Test R2: 0.37802154181168945\n"
          ]
        },
        {
          "output_type": "stream",
          "name": "stderr",
          "text": [
            " 64%|██████▍   | 48/75 [00:03<00:02, 13.07it/s]"
          ]
        },
        {
          "output_type": "stream",
          "name": "stdout",
          "text": [
            "---------------------------------------------------------\n",
            "Epoch: 45, Val R2: 0.37380723260391113, Test R2: 0.372264038678931\n",
            "---------------------------------------------------------\n",
            "Epoch: 46, Val R2: 0.3763536693816196, Test R2: 0.3754212845332371\n",
            "---------------------------------------------------------\n",
            "Epoch: 47, Val R2: 0.3753820245652759, Test R2: 0.37065522320009936\n"
          ]
        },
        {
          "output_type": "stream",
          "name": "stderr",
          "text": [
            "\r 67%|██████▋   | 50/75 [00:03<00:01, 13.08it/s]"
          ]
        },
        {
          "output_type": "stream",
          "name": "stdout",
          "text": [
            "---------------------------------------------------------\n",
            "Epoch: 48, Val R2: 0.3770842076231158, Test R2: 0.37710533821022485\n",
            "---------------------------------------------------------\n",
            "Epoch: 49, Val R2: 0.37534013465591964, Test R2: 0.37277837844884976\n",
            "---------------------------------------------------------\n",
            "Epoch: 50, Val R2: 0.37557616838278374, Test R2: 0.37833826058634834\n"
          ]
        },
        {
          "output_type": "stream",
          "name": "stderr",
          "text": [
            " 72%|███████▏  | 54/75 [00:03<00:01, 13.51it/s]"
          ]
        },
        {
          "output_type": "stream",
          "name": "stdout",
          "text": [
            "---------------------------------------------------------\n",
            "Epoch: 51, Val R2: 0.37767180616133367, Test R2: 0.37903562295491167\n",
            "---------------------------------------------------------\n",
            "Epoch: 52, Val R2: 0.37497248999374144, Test R2: 0.37352403259080325\n",
            "---------------------------------------------------------\n",
            "Epoch: 53, Val R2: 0.3789473367401689, Test R2: 0.3811676622457044\n"
          ]
        },
        {
          "output_type": "stream",
          "name": "stderr",
          "text": [
            "\r 75%|███████▍  | 56/75 [00:04<00:01, 13.46it/s]"
          ]
        },
        {
          "output_type": "stream",
          "name": "stdout",
          "text": [
            "---------------------------------------------------------\n",
            "Epoch: 54, Val R2: 0.3758982184319214, Test R2: 0.374935872160611\n",
            "---------------------------------------------------------\n",
            "Epoch: 55, Val R2: 0.380565069564748, Test R2: 0.3822606199188706\n",
            "---------------------------------------------------------\n",
            "Epoch: 56, Val R2: 0.379507183130231, Test R2: 0.3837378658419597\n"
          ]
        },
        {
          "output_type": "stream",
          "name": "stderr",
          "text": [
            " 80%|████████  | 60/75 [00:04<00:01, 13.65it/s]"
          ]
        },
        {
          "output_type": "stream",
          "name": "stdout",
          "text": [
            "---------------------------------------------------------\n",
            "Epoch: 57, Val R2: 0.3792863934832038, Test R2: 0.37451439830126043\n",
            "---------------------------------------------------------\n",
            "Epoch: 58, Val R2: 0.37889166482078407, Test R2: 0.3817358680411145\n",
            "---------------------------------------------------------\n",
            "Epoch: 59, Val R2: 0.383197844985515, Test R2: 0.38077054869314986\n"
          ]
        },
        {
          "output_type": "stream",
          "name": "stderr",
          "text": [
            "\r 83%|████████▎ | 62/75 [00:04<00:00, 13.45it/s]"
          ]
        },
        {
          "output_type": "stream",
          "name": "stdout",
          "text": [
            "---------------------------------------------------------\n",
            "Epoch: 60, Val R2: 0.3857586627457651, Test R2: 0.387210548928416\n",
            "---------------------------------------------------------\n",
            "Epoch: 61, Val R2: 0.38179246183779314, Test R2: 0.3824131148468234\n",
            "---------------------------------------------------------\n",
            "Epoch: 62, Val R2: 0.3824064747195748, Test R2: 0.3805741734450877\n"
          ]
        },
        {
          "output_type": "stream",
          "name": "stderr",
          "text": [
            " 88%|████████▊ | 66/75 [00:04<00:00, 13.51it/s]"
          ]
        },
        {
          "output_type": "stream",
          "name": "stdout",
          "text": [
            "---------------------------------------------------------\n",
            "Epoch: 63, Val R2: 0.3831021570275781, Test R2: 0.3807807285612491\n",
            "---------------------------------------------------------\n",
            "Epoch: 64, Val R2: 0.3833724064997335, Test R2: 0.38575247398437706\n",
            "---------------------------------------------------------\n",
            "Epoch: 65, Val R2: 0.3850411651810608, Test R2: 0.3799319948882812\n"
          ]
        },
        {
          "output_type": "stream",
          "name": "stderr",
          "text": [
            "\r 91%|█████████ | 68/75 [00:05<00:00, 13.81it/s]"
          ]
        },
        {
          "output_type": "stream",
          "name": "stdout",
          "text": [
            "---------------------------------------------------------\n",
            "Epoch: 66, Val R2: 0.38588959718495464, Test R2: 0.37822101239738426\n",
            "---------------------------------------------------------\n",
            "Epoch: 67, Val R2: 0.38777721780858954, Test R2: 0.38781596551528275\n",
            "---------------------------------------------------------\n",
            "Epoch: 68, Val R2: 0.38479873674674936, Test R2: 0.37444421592663757\n"
          ]
        },
        {
          "output_type": "stream",
          "name": "stderr",
          "text": [
            " 96%|█████████▌| 72/75 [00:05<00:00, 14.02it/s]"
          ]
        },
        {
          "output_type": "stream",
          "name": "stdout",
          "text": [
            "---------------------------------------------------------\n",
            "Epoch: 69, Val R2: 0.38805214935278254, Test R2: 0.38650218746183895\n",
            "---------------------------------------------------------\n",
            "Epoch: 70, Val R2: 0.3849472444316294, Test R2: 0.3788793685873081\n",
            "---------------------------------------------------------\n",
            "Epoch: 71, Val R2: 0.3868401373392888, Test R2: 0.3826506219663781\n"
          ]
        },
        {
          "output_type": "stream",
          "name": "stderr",
          "text": [
            "\r 99%|█████████▊| 74/75 [00:05<00:00, 13.88it/s]"
          ]
        },
        {
          "output_type": "stream",
          "name": "stdout",
          "text": [
            "---------------------------------------------------------\n",
            "Epoch: 72, Val R2: 0.38430094491877986, Test R2: 0.3878048161524488\n",
            "---------------------------------------------------------\n",
            "Epoch: 73, Val R2: 0.3813674106479428, Test R2: 0.383191454053325\n"
          ]
        },
        {
          "output_type": "stream",
          "name": "stderr",
          "text": [
            "\r100%|██████████| 75/75 [00:05<00:00, 13.40it/s]"
          ]
        },
        {
          "output_type": "stream",
          "name": "stdout",
          "text": [
            "---------------------------------------------------------\n",
            "Epoch: 74, Val R2: 0.38577435504165136, Test R2: 0.38673184581843856\n"
          ]
        },
        {
          "output_type": "stream",
          "name": "stderr",
          "text": [
            "\n"
          ]
        }
      ]
    },
    {
      "cell_type": "code",
      "source": [
        "plt.figure(figsize=(12,8))\n",
        "plt.plot(val_loss, label='Validation')\n",
        "plt.plot(test_loss, label='Test')\n",
        "plt.legend(fontsize=14)\n",
        "plt.title('Loss', size=16)\n",
        "plt.xlabel('Epoch', size=14)\n",
        "plt.show()"
      ],
      "metadata": {
        "colab": {
          "base_uri": "https://localhost:8080/",
          "height": 519
        },
        "id": "iOYfhBPyFQcK",
        "outputId": "0ebdc31d-0148-49c0-ec07-23d1ef540dd7"
      },
      "execution_count": 42,
      "outputs": [
        {
          "output_type": "display_data",
          "data": {
            "text/plain": [
              "<Figure size 864x576 with 1 Axes>"
            ],
            "image/png": "[encoded data removed]"
          },
          "metadata": {
            "needs_background": "light"
          }
        }
      ]
    },
    {
      "cell_type": "code",
      "source": [
        "plt.figure(figsize=(12,8))\n",
        "plt.plot(val_r2, label='Validation')\n",
        "plt.plot(test_r2, label='Test')\n",
        "plt.legend(fontsize=14)\n",
        "plt.title('R2 Coefficient of Determination', size=16)\n",
        "plt.xlabel('Epoch', size=14)\n",
        "plt.show()"
      ],
      "metadata": {
        "colab": {
          "base_uri": "https://localhost:8080/",
          "height": 519
        },
        "id": "kS-2HiLdGEdF",
        "outputId": "36c82a71-269a-4afe-ed8a-cc54e0f12ac5"
      },
      "execution_count": 43,
      "outputs": [
        {
          "output_type": "display_data",
          "data": {
            "text/plain": [
              "<Figure size 864x576 with 1 Axes>"
            ],
            "image/png": "[encoded data removed]"
          },
          "metadata": {
            "needs_background": "light"
          }
        }
      ]
    },
    {
      "cell_type": "code",
      "source": [
        ""
      ],
      "metadata": {
        "id": "5RrKkqQoJTDp"
      },
      "execution_count": null,
      "outputs": []
    }
  ]
}