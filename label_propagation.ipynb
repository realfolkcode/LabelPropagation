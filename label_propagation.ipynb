{
  "nbformat": 4,
  "nbformat_minor": 0,
  "metadata": {
    "colab": {
      "name": "label-propagation.ipynb",
      "provenance": [],
      "collapsed_sections": [],
      "authorship_tag": "ABX9TyM3//B5yXGYxSvfUeRJ+JLO",
      "include_colab_link": true
    },
    "kernelspec": {
      "name": "python3",
      "display_name": "Python 3"
    },
    "language_info": {
      "name": "python"
    },
    "accelerator": "GPU"
  },
  "cells": [
    {
      "cell_type": "markdown",
      "metadata": {
        "id": "view-in-github",
        "colab_type": "text"
      },
      "source": [
        "<a href=\"https://colab.research.google.com/github/realfolkcode/LabelPropagation/blob/master/label_propagation.ipynb\" target=\"_parent\"><img src=\"https://colab.research.google.com/assets/colab-badge.svg\" alt=\"Open In Colab\"/></a>"
      ]
    },
    {
      "cell_type": "markdown",
      "source": [
        "# Import and Install"
      ],
      "metadata": {
        "id": "xNHURTWF2njW"
      }
    },
    {
      "cell_type": "code",
      "source": [
        "import numpy as np\n",
        "import torch\n",
        "from torch import nn\n",
        "from torch.utils.data import DataLoader, TensorDataset\n",
        "from tqdm import tqdm\n",
        "from sklearn.metrics import r2_score\n",
        "import scipy\n",
        "from scipy.sparse.linalg import cg\n",
        "import matplotlib.pyplot as plt\n",
        "%matplotlib inline"
      ],
      "metadata": {
        "id": "iwSobebe0bpN"
      },
      "execution_count": 1,
      "outputs": []
    },
    {
      "cell_type": "code",
      "source": [
        "!pip install gpytorch"
      ],
      "metadata": {
        "colab": {
          "base_uri": "https://localhost:8080/"
        },
        "id": "vuGDYPxX_RCM",
        "outputId": "d257226b-5423-4899-8c88-e9ee2304d1f3"
      },
      "execution_count": 2,
      "outputs": [
        {
          "output_type": "stream",
          "name": "stdout",
          "text": [
            "Collecting gpytorch\n",
            "  Downloading gpytorch-1.6.0.tar.gz (310 kB)\n",
            "\u001b[?25l\r\u001b[K     |█                               | 10 kB 18.5 MB/s eta 0:00:01\r\u001b[K     |██                              | 20 kB 10.4 MB/s eta 0:00:01\r\u001b[K     |███▏                            | 30 kB 5.7 MB/s eta 0:00:01\r\u001b[K     |████▏                           | 40 kB 3.2 MB/s eta 0:00:01\r\u001b[K     |█████▎                          | 51 kB 3.9 MB/s eta 0:00:01\r\u001b[K     |██████▎                         | 61 kB 4.6 MB/s eta 0:00:01\r\u001b[K     |███████▍                        | 71 kB 4.7 MB/s eta 0:00:01\r\u001b[K     |████████▍                       | 81 kB 4.6 MB/s eta 0:00:01\r\u001b[K     |█████████▌                      | 92 kB 5.1 MB/s eta 0:00:01\r\u001b[K     |██████████▌                     | 102 kB 4.4 MB/s eta 0:00:01\r\u001b[K     |███████████▋                    | 112 kB 4.4 MB/s eta 0:00:01\r\u001b[K     |████████████▋                   | 122 kB 4.4 MB/s eta 0:00:01\r\u001b[K     |█████████████▊                  | 133 kB 4.4 MB/s eta 0:00:01\r\u001b[K     |██████████████▊                 | 143 kB 4.4 MB/s eta 0:00:01\r\u001b[K     |███████████████▉                | 153 kB 4.4 MB/s eta 0:00:01\r\u001b[K     |████████████████▉               | 163 kB 4.4 MB/s eta 0:00:01\r\u001b[K     |██████████████████              | 174 kB 4.4 MB/s eta 0:00:01\r\u001b[K     |███████████████████             | 184 kB 4.4 MB/s eta 0:00:01\r\u001b[K     |████████████████████            | 194 kB 4.4 MB/s eta 0:00:01\r\u001b[K     |█████████████████████           | 204 kB 4.4 MB/s eta 0:00:01\r\u001b[K     |██████████████████████▏         | 215 kB 4.4 MB/s eta 0:00:01\r\u001b[K     |███████████████████████▏        | 225 kB 4.4 MB/s eta 0:00:01\r\u001b[K     |████████████████████████▎       | 235 kB 4.4 MB/s eta 0:00:01\r\u001b[K     |█████████████████████████▎      | 245 kB 4.4 MB/s eta 0:00:01\r\u001b[K     |██████████████████████████▍     | 256 kB 4.4 MB/s eta 0:00:01\r\u001b[K     |███████████████████████████▍    | 266 kB 4.4 MB/s eta 0:00:01\r\u001b[K     |████████████████████████████▌   | 276 kB 4.4 MB/s eta 0:00:01\r\u001b[K     |█████████████████████████████▌  | 286 kB 4.4 MB/s eta 0:00:01\r\u001b[K     |██████████████████████████████▋ | 296 kB 4.4 MB/s eta 0:00:01\r\u001b[K     |███████████████████████████████▋| 307 kB 4.4 MB/s eta 0:00:01\r\u001b[K     |████████████████████████████████| 310 kB 4.4 MB/s \n",
            "\u001b[?25hBuilding wheels for collected packages: gpytorch\n",
            "  Building wheel for gpytorch (setup.py) ... \u001b[?25l\u001b[?25hdone\n",
            "  Created wheel for gpytorch: filename=gpytorch-1.6.0-py2.py3-none-any.whl size=509889 sha256=14f9bfd0544c1f30e3c88bb0d229f039c1fb9b7d45fae9608cdf76d57422ec0f\n",
            "  Stored in directory: /root/.cache/pip/wheels/66/b5/89/34c06ad393a6feb72b4cdde46d0f1c667f3e2632960f9df109\n",
            "Successfully built gpytorch\n",
            "Installing collected packages: gpytorch\n",
            "Successfully installed gpytorch-1.6.0\n"
          ]
        }
      ]
    },
    {
      "cell_type": "code",
      "source": [
        "from gpytorch.utils import linear_cg"
      ],
      "metadata": {
        "id": "XNABFrc2_hql"
      },
      "execution_count": 3,
      "outputs": []
    },
    {
      "cell_type": "code",
      "execution_count": 4,
      "metadata": {
        "id": "0_s99v0ivveH",
        "colab": {
          "base_uri": "https://localhost:8080/"
        },
        "outputId": "02931e2d-8a3d-49f6-fa6f-8bad59a0d616"
      },
      "outputs": [
        {
          "output_type": "stream",
          "name": "stdout",
          "text": [
            "Cloning into 'LabelPropagation'...\n",
            "remote: Enumerating objects: 146, done.\u001b[K\n",
            "remote: Counting objects: 100% (146/146), done.\u001b[K\n",
            "remote: Compressing objects: 100% (112/112), done.\u001b[K\n",
            "remote: Total 146 (delta 57), reused 90 (delta 25), pack-reused 0\u001b[K\n",
            "Receiving objects: 100% (146/146), 409.13 KiB | 717.00 KiB/s, done.\n",
            "Resolving deltas: 100% (57/57), done.\n"
          ]
        }
      ],
      "source": [
        "!git clone https://github.com/realfolkcode/LabelPropagation.git"
      ]
    },
    {
      "cell_type": "code",
      "source": [
        "from LabelPropagation.utils import load_jj_data, set_random_seeds"
      ],
      "metadata": {
        "id": "ORiBZxMMyROR"
      },
      "execution_count": 7,
      "outputs": []
    },
    {
      "cell_type": "code",
      "source": [
        "device = torch.device('cuda:0' if torch.cuda.is_available() else 'cpu')\n",
        "RANDOM_SEED = 0"
      ],
      "metadata": {
        "id": "dzuUALuCUZZP"
      },
      "execution_count": 8,
      "outputs": []
    },
    {
      "cell_type": "markdown",
      "source": [
        "# Process Data"
      ],
      "metadata": {
        "id": "Xo55EtPj2sL1"
      }
    },
    {
      "cell_type": "code",
      "source": [
        "path = \"LabelPropagation/data/county/election/2012\"\n",
        "adj, X, y, idx_train, idx_val, idx_test = load_jj_data(path)\n",
        "idx_train_val = torch.cat((idx_train, idx_val))\n",
        "y = y.reshape(-1, 1)\n",
        "\n",
        "print(\"adj:\", adj.shape)\n",
        "print(\"features:\", X.shape)\n",
        "print(\"labels:\", y.shape)\n",
        "print(\"idx_train:\", idx_train.shape)\n",
        "print(\"idx_val:\", idx_val.shape)\n",
        "print(\"idx_test:\", idx_test.shape)"
      ],
      "metadata": {
        "colab": {
          "base_uri": "https://localhost:8080/"
        },
        "id": "m0YwexjL0htT",
        "outputId": "bc187485-0088-4639-bc49-6e383ec7b466"
      },
      "execution_count": 9,
      "outputs": [
        {
          "output_type": "stream",
          "name": "stdout",
          "text": [
            "adj: torch.Size([3234, 3234])\n",
            "features: torch.Size([3234, 6])\n",
            "labels: torch.Size([3234, 1])\n",
            "idx_train: torch.Size([1941])\n",
            "idx_val: torch.Size([646])\n",
            "idx_test: torch.Size([647])\n"
          ]
        }
      ]
    },
    {
      "cell_type": "code",
      "source": [
        "plt.hist(y.flatten())\n",
        "plt.title('Target distribution')\n",
        "plt.show()"
      ],
      "metadata": {
        "colab": {
          "base_uri": "https://localhost:8080/",
          "height": 281
        },
        "id": "eV87JbM_16Q_",
        "outputId": "09e02b99-a810-4613-e863-cde376a9779a"
      },
      "execution_count": 10,
      "outputs": [
        {
          "output_type": "display_data",
          "data": {
            "text/plain": [
              "<Figure size 432x288 with 1 Axes>"
            ],
            "image/png": "[encoded data removed]"
          },
          "metadata": {
            "needs_background": "light"
          }
        }
      ]
    },
    {
      "cell_type": "markdown",
      "source": [
        "# MLP"
      ],
      "metadata": {
        "id": "E0Ff4Wy38itM"
      }
    },
    {
      "cell_type": "code",
      "source": [
        "class MLP(nn.Module):\n",
        "    def __init__(self, n_in):\n",
        "        super().__init__()\n",
        "        self.features = nn.Sequential(\n",
        "            nn.Linear(n_in, 16),\n",
        "            nn.ReLU(),\n",
        "            nn.Linear(16, 16),\n",
        "            nn.ReLU(),\n",
        "        )\n",
        "        self.regressor = nn.Linear(16, 1)\n",
        "    \n",
        "    def forward(self, x):\n",
        "        x = self.features(x)\n",
        "        x = self.regressor(x)\n",
        "        return x"
      ],
      "metadata": {
        "id": "AetzJY5Y6HCV"
      },
      "execution_count": 11,
      "outputs": []
    },
    {
      "cell_type": "code",
      "source": [
        "def epoch_train(model, loader, criterion, opt):\n",
        "    train_loss = 0\n",
        "    model.train()\n",
        "    for data, target in loader:\n",
        "        data = data.to(device)\n",
        "        target = target.to(device)\n",
        "        output = model(data)\n",
        "        loss = criterion(output, target)\n",
        "        opt.zero_grad()\n",
        "        loss.backward()\n",
        "        opt.step()\n",
        "        train_loss += loss.item()\n",
        "    train_loss /= len(loader)\n",
        "    return train_loss"
      ],
      "metadata": {
        "id": "7eCwVkJsa1eY"
      },
      "execution_count": 12,
      "outputs": []
    },
    {
      "cell_type": "code",
      "source": [
        "def epoch_val(model, loader, criterion):\n",
        "    val_loss = 0\n",
        "    target_lst = []\n",
        "    output_lst = []\n",
        "    model.eval()\n",
        "    with torch.no_grad():\n",
        "        for data, target in loader:\n",
        "            data = data.to(device)\n",
        "            target = target.to(device)\n",
        "            output = model(data)\n",
        "            target_lst += target.tolist()\n",
        "            output_lst += output.tolist()\n",
        "            val_loss = criterion(output, target).item()\n",
        "    r2 = r2_score(target_lst, output_lst)\n",
        "    val_loss /= len(loader)\n",
        "    return val_loss, r2"
      ],
      "metadata": {
        "id": "5HpYLR5268O5"
      },
      "execution_count": 13,
      "outputs": []
    },
    {
      "cell_type": "code",
      "source": [
        "set_random_seeds(seed_value=RANDOM_SEED, device=device)\n",
        "\n",
        "mlp = MLP(6).to(device)"
      ],
      "metadata": {
        "id": "blmNnbeaCgSK"
      },
      "execution_count": 14,
      "outputs": []
    },
    {
      "cell_type": "code",
      "source": [
        "criterion = nn.MSELoss()\n",
        "opt = torch.optim.Adam(mlp.parameters())"
      ],
      "metadata": {
        "id": "LTqLsLgrQVAU"
      },
      "execution_count": 15,
      "outputs": []
    },
    {
      "cell_type": "code",
      "source": [
        "batch_size = 128\n",
        "\n",
        "train_loader = DataLoader(TensorDataset(X[idx_train], y[idx_train]), batch_size=batch_size, shuffle=True)\n",
        "val_loader = DataLoader(TensorDataset(X[idx_val], y[idx_val]), batch_size=batch_size, shuffle=False)\n",
        "test_loader = DataLoader(TensorDataset(X[idx_test], y[idx_test]), batch_size=batch_size, shuffle=False)"
      ],
      "metadata": {
        "id": "4_xWfytmZO4c"
      },
      "execution_count": 16,
      "outputs": []
    },
    {
      "cell_type": "code",
      "source": [
        "num_epochs = 75\n",
        "\n",
        "train_loss = []\n",
        "val_loss = []\n",
        "val_r2 = []\n",
        "test_loss = []\n",
        "test_r2 = []\n",
        "\n",
        "best_r2 = 0\n",
        "best_epoch = 0\n",
        "\n",
        "for i in tqdm(range(num_epochs)):\n",
        "    loss = epoch_train(mlp, train_loader, criterion, opt)\n",
        "    train_loss.append(np.sqrt(loss))\n",
        "\n",
        "    loss, r2 = epoch_val(mlp, val_loader, criterion)\n",
        "    val_loss.append(np.sqrt(loss))\n",
        "    val_r2.append(r2)\n",
        "    if r2 > best_r2:\n",
        "        best_epoch = i\n",
        "        best_r2 = r2\n",
        "\n",
        "\n",
        "    loss, r2 = epoch_val(mlp, test_loader, criterion)\n",
        "    test_loss.append(np.sqrt(loss))\n",
        "    test_r2.append(r2)\n",
        "    print('---------------------------------------------------------')\n",
        "    print(f'Epoch: {i}, Val R2: {val_r2[-1]}, Test R2: {test_r2[-1]}')"
      ],
      "metadata": {
        "colab": {
          "base_uri": "https://localhost:8080/"
        },
        "id": "0xqbAoLR85D-",
        "outputId": "6678a26c-15fb-480e-9785-64fd347cad0a"
      },
      "execution_count": 17,
      "outputs": [
        {
          "output_type": "stream",
          "name": "stderr",
          "text": [
            "  4%|▍         | 3/75 [00:00<00:06, 11.14it/s]"
          ]
        },
        {
          "output_type": "stream",
          "name": "stdout",
          "text": [
            "---------------------------------------------------------\n",
            "Epoch: 0, Val R2: -0.002688273280749609, Test R2: 0.04538794373042765\n",
            "---------------------------------------------------------\n",
            "Epoch: 1, Val R2: 0.0944001767221817, Test R2: 0.14554112564865662\n",
            "---------------------------------------------------------\n",
            "Epoch: 2, Val R2: 0.15563058335039515, Test R2: 0.20056630361667838\n"
          ]
        },
        {
          "output_type": "stream",
          "name": "stderr",
          "text": [
            "\r  8%|▊         | 6/75 [00:00<00:04, 16.49it/s]"
          ]
        },
        {
          "output_type": "stream",
          "name": "stdout",
          "text": [
            "---------------------------------------------------------\n",
            "Epoch: 3, Val R2: 0.20069958464503046, Test R2: 0.2413663259263672\n",
            "---------------------------------------------------------\n",
            "Epoch: 4, Val R2: 0.2291284316039175, Test R2: 0.2625314191006044\n",
            "---------------------------------------------------------\n",
            "Epoch: 5, Val R2: 0.25388043653035475, Test R2: 0.2794290877950212\n",
            "---------------------------------------------------------\n",
            "Epoch: 6, Val R2: 0.2676683783207986, Test R2: 0.29030533820540627\n",
            "---------------------------------------------------------\n",
            "Epoch: 7, Val R2: 0.2813743772020848, Test R2: 0.29466272374889946\n"
          ]
        },
        {
          "output_type": "stream",
          "name": "stderr",
          "text": [
            " 16%|█▌        | 12/75 [00:00<00:02, 21.16it/s]"
          ]
        },
        {
          "output_type": "stream",
          "name": "stdout",
          "text": [
            "---------------------------------------------------------\n",
            "Epoch: 8, Val R2: 0.2887310883528038, Test R2: 0.298929047478675\n",
            "---------------------------------------------------------\n",
            "Epoch: 9, Val R2: 0.29379257458979535, Test R2: 0.3023981125278895\n",
            "---------------------------------------------------------\n",
            "Epoch: 10, Val R2: 0.2977063319919474, Test R2: 0.30371856661070984\n",
            "---------------------------------------------------------\n",
            "Epoch: 11, Val R2: 0.3019018183700899, Test R2: 0.3070781842416127\n",
            "---------------------------------------------------------\n",
            "Epoch: 12, Val R2: 0.31265005559263015, Test R2: 0.3160453918443673\n",
            "---------------------------------------------------------"
          ]
        },
        {
          "output_type": "stream",
          "name": "stderr",
          "text": [
            " 24%|██▍       | 18/75 [00:00<00:02, 23.85it/s]"
          ]
        },
        {
          "output_type": "stream",
          "name": "stdout",
          "text": [
            "\n",
            "Epoch: 13, Val R2: 0.312584709004624, Test R2: 0.31299526468603\n",
            "---------------------------------------------------------\n",
            "Epoch: 14, Val R2: 0.31851204982963055, Test R2: 0.32204549907720237\n",
            "---------------------------------------------------------\n",
            "Epoch: 15, Val R2: 0.32302061833031015, Test R2: 0.3272451565718759\n",
            "---------------------------------------------------------\n",
            "Epoch: 16, Val R2: 0.32491927943771737, Test R2: 0.3282551993468482\n",
            "---------------------------------------------------------\n",
            "Epoch: 17, Val R2: 0.3277357470810227, Test R2: 0.3303355958154186\n",
            "---------------------------------------------------------\n",
            "Epoch: 18, Val R2: 0.3309782361096779, Test R2: 0.3310277255846166\n"
          ]
        },
        {
          "output_type": "stream",
          "name": "stderr",
          "text": [
            " 32%|███▏      | 24/75 [00:01<00:02, 24.81it/s]"
          ]
        },
        {
          "output_type": "stream",
          "name": "stdout",
          "text": [
            "---------------------------------------------------------\n",
            "Epoch: 19, Val R2: 0.3366804902897278, Test R2: 0.33683946698428935\n",
            "---------------------------------------------------------\n",
            "Epoch: 20, Val R2: 0.33678527618770926, Test R2: 0.33149987688850024\n",
            "---------------------------------------------------------\n",
            "Epoch: 21, Val R2: 0.33990876548562554, Test R2: 0.3369607476528025\n",
            "---------------------------------------------------------\n",
            "Epoch: 22, Val R2: 0.34500300154693186, Test R2: 0.34487680132967136\n",
            "---------------------------------------------------------\n",
            "Epoch: 23, Val R2: 0.34472023309896793, Test R2: 0.34248518645100456\n",
            "---------------------------------------------------------\n",
            "Epoch: 24, Val R2: 0.3510103439075518, Test R2: 0.3477777369365881\n"
          ]
        },
        {
          "output_type": "stream",
          "name": "stderr",
          "text": [
            " 40%|████      | 30/75 [00:01<00:01, 24.05it/s]"
          ]
        },
        {
          "output_type": "stream",
          "name": "stdout",
          "text": [
            "---------------------------------------------------------\n",
            "Epoch: 25, Val R2: 0.3517254553083625, Test R2: 0.3487965517267887\n",
            "---------------------------------------------------------\n",
            "Epoch: 26, Val R2: 0.3510262227267451, Test R2: 0.34785998179127\n",
            "---------------------------------------------------------\n",
            "Epoch: 27, Val R2: 0.35367838862108536, Test R2: 0.3519651569987068\n",
            "---------------------------------------------------------\n",
            "Epoch: 28, Val R2: 0.357053938171601, Test R2: 0.3555611088938091\n",
            "---------------------------------------------------------\n",
            "Epoch: 29, Val R2: 0.3572595724769675, Test R2: 0.3577333161396178\n"
          ]
        },
        {
          "output_type": "stream",
          "name": "stderr",
          "text": [
            " 48%|████▊     | 36/75 [00:01<00:01, 24.17it/s]"
          ]
        },
        {
          "output_type": "stream",
          "name": "stdout",
          "text": [
            "---------------------------------------------------------\n",
            "Epoch: 30, Val R2: 0.3595321842304384, Test R2: 0.3591631736505779\n",
            "---------------------------------------------------------\n",
            "Epoch: 31, Val R2: 0.3613820540165008, Test R2: 0.3590167798862187\n",
            "---------------------------------------------------------\n",
            "Epoch: 32, Val R2: 0.36220288030157277, Test R2: 0.36089114192309835\n",
            "---------------------------------------------------------\n",
            "Epoch: 33, Val R2: 0.3646436472983745, Test R2: 0.36788060624839003\n",
            "---------------------------------------------------------\n",
            "Epoch: 34, Val R2: 0.36302426333647797, Test R2: 0.35910805329508255\n",
            "---------------------------------------------------------\n",
            "Epoch: 35, Val R2: 0.36638321671714635, Test R2: 0.3646927905732712\n"
          ]
        },
        {
          "output_type": "stream",
          "name": "stderr",
          "text": [
            " 56%|█████▌    | 42/75 [00:01<00:01, 24.50it/s]"
          ]
        },
        {
          "output_type": "stream",
          "name": "stdout",
          "text": [
            "---------------------------------------------------------\n",
            "Epoch: 36, Val R2: 0.3671627540223559, Test R2: 0.3646665017055467\n",
            "---------------------------------------------------------\n",
            "Epoch: 37, Val R2: 0.3669742013923788, Test R2: 0.36486100966590396\n",
            "---------------------------------------------------------\n",
            "Epoch: 38, Val R2: 0.3700632020614415, Test R2: 0.37258202556676434\n",
            "---------------------------------------------------------\n",
            "Epoch: 39, Val R2: 0.36903422248836504, Test R2: 0.3663410153256712\n",
            "---------------------------------------------------------\n",
            "Epoch: 40, Val R2: 0.3691581848770126, Test R2: 0.3678914518774612\n",
            "---------------------------------------------------------\n",
            "Epoch: 41, Val R2: 0.36929177624566345, Test R2: 0.3718282067857379\n"
          ]
        },
        {
          "output_type": "stream",
          "name": "stderr",
          "text": [
            " 64%|██████▍   | 48/75 [00:02<00:01, 24.76it/s]"
          ]
        },
        {
          "output_type": "stream",
          "name": "stdout",
          "text": [
            "---------------------------------------------------------\n",
            "Epoch: 42, Val R2: 0.3705719569393915, Test R2: 0.3716350162892035\n",
            "---------------------------------------------------------\n",
            "Epoch: 43, Val R2: 0.37183716954898627, Test R2: 0.3739079503567797\n",
            "---------------------------------------------------------\n",
            "Epoch: 44, Val R2: 0.37644737233819703, Test R2: 0.3780215394078126\n",
            "---------------------------------------------------------\n",
            "Epoch: 45, Val R2: 0.3738072376771363, Test R2: 0.37226404688144643\n",
            "---------------------------------------------------------\n",
            "Epoch: 46, Val R2: 0.3763536750851487, Test R2: 0.3754212822001467\n",
            "---------------------------------------------------------\n",
            "Epoch: 47, Val R2: 0.37538203184426777, Test R2: 0.3706552079965305\n"
          ]
        },
        {
          "output_type": "stream",
          "name": "stderr",
          "text": [
            " 72%|███████▏  | 54/75 [00:02<00:00, 24.99it/s]"
          ]
        },
        {
          "output_type": "stream",
          "name": "stdout",
          "text": [
            "---------------------------------------------------------\n",
            "Epoch: 48, Val R2: 0.37708421753860055, Test R2: 0.37710533512410427\n",
            "---------------------------------------------------------\n",
            "Epoch: 49, Val R2: 0.37534012608178335, Test R2: 0.3727783717597444\n",
            "---------------------------------------------------------\n",
            "Epoch: 50, Val R2: 0.3755761759035804, Test R2: 0.3783382648764494\n",
            "---------------------------------------------------------\n",
            "Epoch: 51, Val R2: 0.3776718152321712, Test R2: 0.3790356227667747\n",
            "---------------------------------------------------------\n",
            "Epoch: 52, Val R2: 0.374972496186759, Test R2: 0.37352401905964605\n",
            "---------------------------------------------------------\n",
            "Epoch: 53, Val R2: 0.37894733965584304, Test R2: 0.38116765128906127\n"
          ]
        },
        {
          "output_type": "stream",
          "name": "stderr",
          "text": [
            "\r 76%|███████▌  | 57/75 [00:02<00:00, 22.78it/s]"
          ]
        },
        {
          "output_type": "stream",
          "name": "stdout",
          "text": [
            "---------------------------------------------------------\n",
            "Epoch: 54, Val R2: 0.37589821914724386, Test R2: 0.3749358732069119\n",
            "---------------------------------------------------------\n",
            "Epoch: 55, Val R2: 0.38056506473630614, Test R2: 0.3822606210212707\n",
            "---------------------------------------------------------\n",
            "Epoch: 56, Val R2: 0.3795072030041682, Test R2: 0.3837378734964785\n"
          ]
        },
        {
          "output_type": "stream",
          "name": "stderr",
          "text": [
            " 84%|████████▍ | 63/75 [00:02<00:00, 21.35it/s]"
          ]
        },
        {
          "output_type": "stream",
          "name": "stdout",
          "text": [
            "---------------------------------------------------------\n",
            "Epoch: 57, Val R2: 0.3792863967889507, Test R2: 0.3745143978279425\n",
            "---------------------------------------------------------\n",
            "Epoch: 58, Val R2: 0.3788916730768547, Test R2: 0.3817358607402406\n",
            "---------------------------------------------------------\n",
            "Epoch: 59, Val R2: 0.3831978536713143, Test R2: 0.38077054016135636\n",
            "---------------------------------------------------------\n",
            "Epoch: 60, Val R2: 0.3857586617958064, Test R2: 0.3872105494748235\n",
            "---------------------------------------------------------\n",
            "Epoch: 61, Val R2: 0.38179246076847273, Test R2: 0.3824131055845198\n",
            "---------------------------------------------------------\n",
            "Epoch: 62, Val R2: 0.3824064800145448, Test R2: 0.3805741618726046\n"
          ]
        },
        {
          "output_type": "stream",
          "name": "stderr",
          "text": [
            "\r 88%|████████▊ | 66/75 [00:02<00:00, 22.08it/s]"
          ]
        },
        {
          "output_type": "stream",
          "name": "stdout",
          "text": [
            "---------------------------------------------------------\n",
            "Epoch: 63, Val R2: 0.3831021696382504, Test R2: 0.3807807349625887\n",
            "---------------------------------------------------------\n",
            "Epoch: 64, Val R2: 0.38337240890027247, Test R2: 0.3857524684151443\n",
            "---------------------------------------------------------\n",
            "Epoch: 65, Val R2: 0.38504117359030976, Test R2: 0.3799319947136707\n",
            "---------------------------------------------------------\n",
            "Epoch: 66, Val R2: 0.38588959461954464, Test R2: 0.37822101518857176\n",
            "---------------------------------------------------------\n",
            "Epoch: 67, Val R2: 0.3877772220173159, Test R2: 0.38781596744900226\n"
          ]
        },
        {
          "output_type": "stream",
          "name": "stderr",
          "text": [
            " 96%|█████████▌| 72/75 [00:03<00:00, 22.13it/s]"
          ]
        },
        {
          "output_type": "stream",
          "name": "stdout",
          "text": [
            "---------------------------------------------------------\n",
            "Epoch: 68, Val R2: 0.3847987389924685, Test R2: 0.37444420336222084\n",
            "---------------------------------------------------------\n",
            "Epoch: 69, Val R2: 0.3880521609254859, Test R2: 0.38650219575055056\n",
            "---------------------------------------------------------\n",
            "Epoch: 70, Val R2: 0.3849472536007207, Test R2: 0.37887937073753\n",
            "---------------------------------------------------------\n",
            "Epoch: 71, Val R2: 0.3868401280387508, Test R2: 0.38265061951782087\n",
            "---------------------------------------------------------\n",
            "Epoch: 72, Val R2: 0.38430094140959836, Test R2: 0.38780482443571995\n"
          ]
        },
        {
          "output_type": "stream",
          "name": "stderr",
          "text": [
            "100%|██████████| 75/75 [00:03<00:00, 22.54it/s]"
          ]
        },
        {
          "output_type": "stream",
          "name": "stdout",
          "text": [
            "---------------------------------------------------------\n",
            "Epoch: 73, Val R2: 0.38136741985703215, Test R2: 0.3831914558778736\n",
            "---------------------------------------------------------\n",
            "Epoch: 74, Val R2: 0.3857743524297331, Test R2: 0.38673184233230506\n"
          ]
        },
        {
          "output_type": "stream",
          "name": "stderr",
          "text": [
            "\n"
          ]
        }
      ]
    },
    {
      "cell_type": "code",
      "source": [
        "plt.figure(figsize=(12,8))\n",
        "plt.plot(val_loss, label='Validation')\n",
        "plt.plot(test_loss, label='Test')\n",
        "plt.legend(fontsize=14)\n",
        "plt.title('Loss', size=16)\n",
        "plt.xlabel('Epoch', size=14)\n",
        "plt.show()"
      ],
      "metadata": {
        "colab": {
          "base_uri": "https://localhost:8080/",
          "height": 519
        },
        "id": "iOYfhBPyFQcK",
        "outputId": "1f5cb384-87af-465f-c8f1-97b4f4da0812"
      },
      "execution_count": 18,
      "outputs": [
        {
          "output_type": "display_data",
          "data": {
            "text/plain": [
              "<Figure size 864x576 with 1 Axes>"
            ],
            "image/png": "[encoded data removed]"
          },
          "metadata": {
            "needs_background": "light"
          }
        }
      ]
    },
    {
      "cell_type": "code",
      "source": [
        "plt.figure(figsize=(12,8))\n",
        "plt.plot(val_r2, label='Validation')\n",
        "plt.plot(test_r2, label='Test')\n",
        "plt.legend(fontsize=14)\n",
        "plt.title('R2 Coefficient of Determination', size=16)\n",
        "plt.xlabel('Epoch', size=14)\n",
        "plt.show()"
      ],
      "metadata": {
        "colab": {
          "base_uri": "https://localhost:8080/",
          "height": 519
        },
        "id": "kS-2HiLdGEdF",
        "outputId": "8d429e21-b964-4ce1-e9f0-943e7619bb2a"
      },
      "execution_count": 19,
      "outputs": [
        {
          "output_type": "display_data",
          "data": {
            "text/plain": [
              "<Figure size 864x576 with 1 Axes>"
            ],
            "image/png": "[encoded data removed]"
          },
          "metadata": {
            "needs_background": "light"
          }
        }
      ]
    },
    {
      "cell_type": "code",
      "source": [
        "print('Best epoch:', best_epoch)"
      ],
      "metadata": {
        "colab": {
          "base_uri": "https://localhost:8080/"
        },
        "id": "bjqOZX11cm4k",
        "outputId": "791e593e-3377-43a5-ef63-674b4f7e517b"
      },
      "execution_count": 20,
      "outputs": [
        {
          "output_type": "stream",
          "name": "stdout",
          "text": [
            "Best epoch: 69\n"
          ]
        }
      ]
    },
    {
      "cell_type": "code",
      "source": [
        "set_random_seeds(seed_value=RANDOM_SEED, device=device)\n",
        "\n",
        "mlp = MLP(6).to(device)\n",
        "criterion = nn.MSELoss()\n",
        "opt = torch.optim.Adam(mlp.parameters())"
      ],
      "metadata": {
        "id": "5RrKkqQoJTDp"
      },
      "execution_count": 21,
      "outputs": []
    },
    {
      "cell_type": "code",
      "source": [
        "train_val_loader = DataLoader(TensorDataset(X[idx_train_val], y[idx_train_val]), batch_size=batch_size, shuffle=True)"
      ],
      "metadata": {
        "id": "qQ6JkKm2eZ2a"
      },
      "execution_count": 22,
      "outputs": []
    },
    {
      "cell_type": "code",
      "source": [
        "for i in tqdm(range(best_epoch)):\n",
        "    loss = epoch_train(mlp, train_val_loader, criterion, opt)\n",
        "\n",
        "loss, r2 = epoch_val(mlp, test_loader, criterion)\n",
        "print(f'Epoch: {best_epoch}, Test R2: {r2}')"
      ],
      "metadata": {
        "colab": {
          "base_uri": "https://localhost:8080/"
        },
        "id": "79n10ABicgOz",
        "outputId": "bc71e67b-46e4-4fae-9a40-c53fff158262"
      },
      "execution_count": 23,
      "outputs": [
        {
          "output_type": "stream",
          "name": "stderr",
          "text": [
            "100%|██████████| 69/69 [00:02<00:00, 28.73it/s]"
          ]
        },
        {
          "output_type": "stream",
          "name": "stdout",
          "text": [
            "Epoch: 69, Test R2: 0.3928638265594605\n"
          ]
        },
        {
          "output_type": "stream",
          "name": "stderr",
          "text": [
            "\n"
          ]
        }
      ]
    },
    {
      "cell_type": "code",
      "source": [
        "with torch.no_grad():\n",
        "    pred_train_val = mlp(X[idx_train_val].to(device)).cpu()\n",
        "    pred_test = mlp(X[idx_test].to(device)).cpu()"
      ],
      "metadata": {
        "id": "sy5AyqW8qn2r"
      },
      "execution_count": 24,
      "outputs": []
    },
    {
      "cell_type": "markdown",
      "source": [
        "# Label Propagation"
      ],
      "metadata": {
        "id": "6_0LAp8Q6E82"
      }
    },
    {
      "cell_type": "markdown",
      "source": [
        "## GPyTorch CG"
      ],
      "metadata": {
        "id": "XIdDblGRoR7Y"
      }
    },
    {
      "cell_type": "code",
      "source": [
        "def label_propagation(adj, y_train, idx_train, idx_test, pred_train=None, pred_test=None):\n",
        "    '''\n",
        "    Attributes\n",
        "    ----------\n",
        "    adj: torch.sparse.FloatTensor\n",
        "        normalized adjacency matrix\n",
        "    '''\n",
        "    L = torch.eye(len(adj)) - adj\n",
        "    res_test = torch.zeros(len(idx_test), 1)\n",
        "    if pred_train is None:\n",
        "        res_train = y_train\n",
        "    else:\n",
        "        res_train = y_train - pred_train\n",
        "    A = L[idx_test, :][:, idx_test]\n",
        "    b = -L[idx_test, :][:, idx_train] @ res_train\n",
        "    res_test = linear_cg(A, b)\n",
        "    if pred_test is None:\n",
        "        z = res_test\n",
        "    else:\n",
        "        z = pred_test + res_test\n",
        "    return z"
      ],
      "metadata": {
        "id": "6F25q8Xid_nF"
      },
      "execution_count": 25,
      "outputs": []
    },
    {
      "cell_type": "code",
      "source": [
        "%timeit label_propagation(adj, y[idx_train_val], idx_train_val, idx_test)"
      ],
      "metadata": {
        "id": "qeIvppKvDj2v",
        "colab": {
          "base_uri": "https://localhost:8080/"
        },
        "outputId": "25ee45c0-d19b-4907-a3d4-b10fa6e973d9"
      },
      "execution_count": 26,
      "outputs": [
        {
          "output_type": "stream",
          "name": "stdout",
          "text": [
            "10 loops, best of 5: 37.9 ms per loop\n"
          ]
        }
      ]
    },
    {
      "cell_type": "code",
      "source": [
        "z = label_propagation(adj, y[idx_train_val], idx_train_val, idx_test)"
      ],
      "metadata": {
        "id": "D47NW55UjrVR"
      },
      "execution_count": 27,
      "outputs": []
    },
    {
      "cell_type": "code",
      "source": [
        "r2_score(z, y[idx_test])"
      ],
      "metadata": {
        "colab": {
          "base_uri": "https://localhost:8080/"
        },
        "id": "H8XycHYVDvLZ",
        "outputId": "0987f5a5-1eb9-4d18-c439-661949334a29"
      },
      "execution_count": 28,
      "outputs": [
        {
          "output_type": "execute_result",
          "data": {
            "text/plain": [
              "0.41428293947116124"
            ]
          },
          "metadata": {},
          "execution_count": 28
        }
      ]
    },
    {
      "cell_type": "markdown",
      "source": [
        "## SciPy CG"
      ],
      "metadata": {
        "id": "4R5udM4poXeO"
      }
    },
    {
      "cell_type": "code",
      "source": [
        "def label_propagation_scipy(adj, y_train, idx_train, idx_test, pred_train=None, pred_test=None):\n",
        "    '''\n",
        "    Attributes\n",
        "    ----------\n",
        "    adj: scipy.sparse\n",
        "        normalized adjacency matrix\n",
        "    '''\n",
        "    L = scipy.sparse.eye(adj.shape[0]) - adj\n",
        "    z = np.zeros((len(idx_test), 1))\n",
        "    if pred_train is None:\n",
        "        res_train = y_train\n",
        "    else:\n",
        "        res_train = y_train - pred_train\n",
        "    A = L[idx_test, :][:, idx_test]\n",
        "    b = -L[idx_test, :][:, idx_train] @ res_train\n",
        "    res_test = cg(A, b)[0].reshape(-1, 1)\n",
        "    if pred_test is None:\n",
        "        z = res_test\n",
        "    else:\n",
        "        z = pred_test + res_test\n",
        "    return z"
      ],
      "metadata": {
        "id": "q_i3k-I8T8Ed"
      },
      "execution_count": 29,
      "outputs": []
    },
    {
      "cell_type": "code",
      "source": [
        "adj_sp = scipy.sparse.csr_matrix(adj.to_dense())"
      ],
      "metadata": {
        "id": "JhhHin_tU06-"
      },
      "execution_count": 30,
      "outputs": []
    },
    {
      "cell_type": "code",
      "source": [
        "%timeit label_propagation_scipy(adj_sp, y[idx_train_val].numpy(), idx_train_val.numpy(), idx_test.numpy())"
      ],
      "metadata": {
        "colab": {
          "base_uri": "https://localhost:8080/"
        },
        "id": "YIP773VlVJAi",
        "outputId": "e3835931-c42f-49c4-8223-635e20b3df92"
      },
      "execution_count": 31,
      "outputs": [
        {
          "output_type": "stream",
          "name": "stdout",
          "text": [
            "100 loops, best of 5: 2.44 ms per loop\n"
          ]
        }
      ]
    },
    {
      "cell_type": "code",
      "source": [
        "z = label_propagation_scipy(adj_sp, y[idx_train_val].numpy(), idx_train_val.numpy(), idx_test.numpy())"
      ],
      "metadata": {
        "id": "undYc067jzp5"
      },
      "execution_count": 32,
      "outputs": []
    },
    {
      "cell_type": "code",
      "source": [
        "r2_score(z, y[idx_test])"
      ],
      "metadata": {
        "colab": {
          "base_uri": "https://localhost:8080/"
        },
        "id": "9zBeTayiVflQ",
        "outputId": "66528e2b-31e1-4cdf-ad5f-9acef4923595"
      },
      "execution_count": 33,
      "outputs": [
        {
          "output_type": "execute_result",
          "data": {
            "text/plain": [
              "0.41428299093056464"
            ]
          },
          "metadata": {},
          "execution_count": 33
        }
      ]
    },
    {
      "cell_type": "markdown",
      "source": [
        "# LP-MLP"
      ],
      "metadata": {
        "id": "hJ9N27BwI9oI"
      }
    },
    {
      "cell_type": "code",
      "source": [
        "z = label_propagation(adj, y[idx_train_val], idx_train_val, idx_test, pred_train_val, pred_test)"
      ],
      "metadata": {
        "id": "b8nM8NmUHgYA"
      },
      "execution_count": 34,
      "outputs": []
    },
    {
      "cell_type": "code",
      "source": [
        "r2_score(z, y[idx_test])"
      ],
      "metadata": {
        "colab": {
          "base_uri": "https://localhost:8080/"
        },
        "id": "pCwaFKEFsvdP",
        "outputId": "6d6ef465-5e95-478e-8eb0-f104138c1008"
      },
      "execution_count": 35,
      "outputs": [
        {
          "output_type": "execute_result",
          "data": {
            "text/plain": [
              "0.5739378927667451"
            ]
          },
          "metadata": {},
          "execution_count": 35
        }
      ]
    },
    {
      "cell_type": "code",
      "source": [
        "z = label_propagation_scipy(adj_sp, y[idx_train_val], idx_train_val, idx_test, pred_train_val, pred_test)"
      ],
      "metadata": {
        "id": "I-vFg8xAyjnV"
      },
      "execution_count": 36,
      "outputs": []
    },
    {
      "cell_type": "code",
      "source": [
        "r2_score(z, y[idx_test])"
      ],
      "metadata": {
        "colab": {
          "base_uri": "https://localhost:8080/"
        },
        "id": "cy_c42HVylin",
        "outputId": "686f8d71-aab5-4894-c77f-e6929555dae5"
      },
      "execution_count": 37,
      "outputs": [
        {
          "output_type": "execute_result",
          "data": {
            "text/plain": [
              "0.5739368892201929"
            ]
          },
          "metadata": {},
          "execution_count": 37
        }
      ]
    },
    {
      "cell_type": "code",
      "source": [
        ""
      ],
      "metadata": {
        "id": "s-jwtQdqyoa7"
      },
      "execution_count": null,
      "outputs": []
    }
  ]
}