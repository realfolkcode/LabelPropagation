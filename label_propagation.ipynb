{
  "nbformat": 4,
  "nbformat_minor": 0,
  "metadata": {
    "colab": {
      "name": "label-propagation.ipynb",
      "provenance": [],
      "collapsed_sections": [],
      "authorship_tag": "ABX9TyPiAU7Mv4Shx+tp4kB2sA+y",
      "include_colab_link": true
    },
    "kernelspec": {
      "name": "python3",
      "display_name": "Python 3"
    },
    "language_info": {
      "name": "python"
    },
    "accelerator": "GPU"
  },
  "cells": [
    {
      "cell_type": "markdown",
      "metadata": {
        "id": "view-in-github",
        "colab_type": "text"
      },
      "source": [
        "<a href=\"https://colab.research.google.com/github/realfolkcode/GraphRegression/blob/master/label_propagation.ipynb\" target=\"_parent\"><img src=\"https://colab.research.google.com/assets/colab-badge.svg\" alt=\"Open In Colab\"/></a>"
      ]
    },
    {
      "cell_type": "markdown",
      "source": [
        "# Import and Install"
      ],
      "metadata": {
        "id": "xNHURTWF2njW"
      }
    },
    {
      "cell_type": "code",
      "source": [
        "import numpy as np\n",
        "import torch\n",
        "from torch import nn\n",
        "from torch.utils.data import DataLoader, TensorDataset\n",
        "from tqdm import tqdm\n",
        "from sklearn.metrics import r2_score\n",
        "import scipy\n",
        "from scipy.sparse.linalg import cg\n",
        "import matplotlib.pyplot as plt\n",
        "%matplotlib inline"
      ],
      "metadata": {
        "id": "iwSobebe0bpN"
      },
      "execution_count": 1,
      "outputs": []
    },
    {
      "cell_type": "code",
      "source": [
        "!pip install gpytorch"
      ],
      "metadata": {
        "colab": {
          "base_uri": "https://localhost:8080/"
        },
        "id": "vuGDYPxX_RCM",
        "outputId": "b383c6fd-61da-4299-9181-4f2e492c99c3"
      },
      "execution_count": 2,
      "outputs": [
        {
          "output_type": "stream",
          "name": "stdout",
          "text": [
            "Collecting gpytorch\n",
            "  Downloading gpytorch-1.6.0.tar.gz (310 kB)\n",
            "\u001b[?25l\r\u001b[K     |█                               | 10 kB 31.1 MB/s eta 0:00:01\r\u001b[K     |██                              | 20 kB 35.7 MB/s eta 0:00:01\r\u001b[K     |███▏                            | 30 kB 41.4 MB/s eta 0:00:01\r\u001b[K     |████▏                           | 40 kB 38.0 MB/s eta 0:00:01\r\u001b[K     |█████▎                          | 51 kB 41.3 MB/s eta 0:00:01\r\u001b[K     |██████▎                         | 61 kB 45.3 MB/s eta 0:00:01\r\u001b[K     |███████▍                        | 71 kB 31.7 MB/s eta 0:00:01\r\u001b[K     |████████▍                       | 81 kB 32.2 MB/s eta 0:00:01\r\u001b[K     |█████████▌                      | 92 kB 34.7 MB/s eta 0:00:01\r\u001b[K     |██████████▌                     | 102 kB 34.2 MB/s eta 0:00:01\r\u001b[K     |███████████▋                    | 112 kB 34.2 MB/s eta 0:00:01\r\u001b[K     |████████████▋                   | 122 kB 34.2 MB/s eta 0:00:01\r\u001b[K     |█████████████▊                  | 133 kB 34.2 MB/s eta 0:00:01\r\u001b[K     |██████████████▊                 | 143 kB 34.2 MB/s eta 0:00:01\r\u001b[K     |███████████████▉                | 153 kB 34.2 MB/s eta 0:00:01\r\u001b[K     |████████████████▉               | 163 kB 34.2 MB/s eta 0:00:01\r\u001b[K     |██████████████████              | 174 kB 34.2 MB/s eta 0:00:01\r\u001b[K     |███████████████████             | 184 kB 34.2 MB/s eta 0:00:01\r\u001b[K     |████████████████████            | 194 kB 34.2 MB/s eta 0:00:01\r\u001b[K     |█████████████████████           | 204 kB 34.2 MB/s eta 0:00:01\r\u001b[K     |██████████████████████▏         | 215 kB 34.2 MB/s eta 0:00:01\r\u001b[K     |███████████████████████▏        | 225 kB 34.2 MB/s eta 0:00:01\r\u001b[K     |████████████████████████▎       | 235 kB 34.2 MB/s eta 0:00:01\r\u001b[K     |█████████████████████████▎      | 245 kB 34.2 MB/s eta 0:00:01\r\u001b[K     |██████████████████████████▍     | 256 kB 34.2 MB/s eta 0:00:01\r\u001b[K     |███████████████████████████▍    | 266 kB 34.2 MB/s eta 0:00:01\r\u001b[K     |████████████████████████████▌   | 276 kB 34.2 MB/s eta 0:00:01\r\u001b[K     |█████████████████████████████▌  | 286 kB 34.2 MB/s eta 0:00:01\r\u001b[K     |██████████████████████████████▋ | 296 kB 34.2 MB/s eta 0:00:01\r\u001b[K     |███████████████████████████████▋| 307 kB 34.2 MB/s eta 0:00:01\r\u001b[K     |████████████████████████████████| 310 kB 34.2 MB/s \n",
            "\u001b[?25hBuilding wheels for collected packages: gpytorch\n",
            "  Building wheel for gpytorch (setup.py) ... \u001b[?25l\u001b[?25hdone\n",
            "  Created wheel for gpytorch: filename=gpytorch-1.6.0-py2.py3-none-any.whl size=509889 sha256=80c20e103eb3422eb4c4aecb7832c978d2110c5a2ce8839756660a43bf2cb97c\n",
            "  Stored in directory: /root/.cache/pip/wheels/66/b5/89/34c06ad393a6feb72b4cdde46d0f1c667f3e2632960f9df109\n",
            "Successfully built gpytorch\n",
            "Installing collected packages: gpytorch\n",
            "Successfully installed gpytorch-1.6.0\n"
          ]
        }
      ]
    },
    {
      "cell_type": "code",
      "source": [
        "from gpytorch.utils import linear_cg"
      ],
      "metadata": {
        "id": "XNABFrc2_hql"
      },
      "execution_count": 3,
      "outputs": []
    },
    {
      "cell_type": "code",
      "execution_count": 4,
      "metadata": {
        "id": "0_s99v0ivveH",
        "colab": {
          "base_uri": "https://localhost:8080/"
        },
        "outputId": "67e693de-52d5-42d9-f8cb-95b548df0245"
      },
      "outputs": [
        {
          "output_type": "stream",
          "name": "stdout",
          "text": [
            "Cloning into 'GraphRegression'...\n",
            "remote: Enumerating objects: 140, done.\u001b[K\n",
            "remote: Counting objects: 100% (140/140), done.\u001b[K\n",
            "remote: Compressing objects: 100% (106/106), done.\u001b[K\n",
            "remote: Total 140 (delta 54), reused 90 (delta 25), pack-reused 0\u001b[K\n",
            "Receiving objects: 100% (140/140), 371.68 KiB | 634.00 KiB/s, done.\n",
            "Resolving deltas: 100% (54/54), done.\n"
          ]
        }
      ],
      "source": [
        "!git clone https://github.com/realfolkcode/GraphRegression.git"
      ]
    },
    {
      "cell_type": "code",
      "source": [
        "from GraphRegression.utils import load_jj_data, set_random_seeds"
      ],
      "metadata": {
        "id": "ORiBZxMMyROR"
      },
      "execution_count": 5,
      "outputs": []
    },
    {
      "cell_type": "code",
      "source": [
        "device = torch.device('cuda:0' if torch.cuda.is_available() else 'cpu')\n",
        "RANDOM_SEED = 0"
      ],
      "metadata": {
        "id": "dzuUALuCUZZP"
      },
      "execution_count": 6,
      "outputs": []
    },
    {
      "cell_type": "markdown",
      "source": [
        "# Process Data"
      ],
      "metadata": {
        "id": "Xo55EtPj2sL1"
      }
    },
    {
      "cell_type": "code",
      "source": [
        "path = \"GraphRegression/data/county/election/2012\"\n",
        "adj, X, y, idx_train, idx_val, idx_test = load_jj_data(path)\n",
        "idx_train_val = torch.cat((idx_train, idx_val))\n",
        "y = y.reshape(-1, 1)\n",
        "\n",
        "print(\"adj:\", adj.shape)\n",
        "print(\"features:\", X.shape)\n",
        "print(\"labels:\", y.shape)\n",
        "print(\"idx_train:\", idx_train.shape)\n",
        "print(\"idx_val:\", idx_val.shape)\n",
        "print(\"idx_test:\", idx_test.shape)"
      ],
      "metadata": {
        "colab": {
          "base_uri": "https://localhost:8080/"
        },
        "id": "m0YwexjL0htT",
        "outputId": "87218416-a039-40da-d126-7eba04fd5a0a"
      },
      "execution_count": 7,
      "outputs": [
        {
          "output_type": "stream",
          "name": "stdout",
          "text": [
            "adj: torch.Size([3234, 3234])\n",
            "features: torch.Size([3234, 6])\n",
            "labels: torch.Size([3234, 1])\n",
            "idx_train: torch.Size([1941])\n",
            "idx_val: torch.Size([646])\n",
            "idx_test: torch.Size([647])\n"
          ]
        }
      ]
    },
    {
      "cell_type": "code",
      "source": [
        "plt.hist(y.flatten())\n",
        "plt.title('Target distribution')\n",
        "plt.show()"
      ],
      "metadata": {
        "colab": {
          "base_uri": "https://localhost:8080/",
          "height": 281
        },
        "id": "eV87JbM_16Q_",
        "outputId": "af2eaf09-e9f9-4876-de9b-93fb1e54a814"
      },
      "execution_count": 8,
      "outputs": [
        {
          "output_type": "display_data",
          "data": {
            "text/plain": [
              "<Figure size 432x288 with 1 Axes>"
            ],
            "image/png": "[encoded data removed]"
          },
          "metadata": {
            "needs_background": "light"
          }
        }
      ]
    },
    {
      "cell_type": "markdown",
      "source": [
        "# MLP"
      ],
      "metadata": {
        "id": "E0Ff4Wy38itM"
      }
    },
    {
      "cell_type": "code",
      "source": [
        "class MLP(nn.Module):\n",
        "    def __init__(self, n_in):\n",
        "        super().__init__()\n",
        "        self.features = nn.Sequential(\n",
        "            nn.Linear(n_in, 16),\n",
        "            nn.ReLU(),\n",
        "            nn.Linear(16, 16),\n",
        "            nn.ReLU(),\n",
        "        )\n",
        "        self.regressor = nn.Linear(16, 1)\n",
        "    \n",
        "    def forward(self, x):\n",
        "        x = self.features(x)\n",
        "        x = self.regressor(x)\n",
        "        return x"
      ],
      "metadata": {
        "id": "AetzJY5Y6HCV"
      },
      "execution_count": 9,
      "outputs": []
    },
    {
      "cell_type": "code",
      "source": [
        "def epoch_train(model, loader, criterion, opt):\n",
        "    train_loss = 0\n",
        "    model.train()\n",
        "    for data, target in loader:\n",
        "        data = data.to(device)\n",
        "        target = target.to(device)\n",
        "        output = model(data)\n",
        "        loss = criterion(output, target)\n",
        "        opt.zero_grad()\n",
        "        loss.backward()\n",
        "        opt.step()\n",
        "        train_loss += loss.item()\n",
        "    train_loss /= len(loader)\n",
        "    return train_loss"
      ],
      "metadata": {
        "id": "7eCwVkJsa1eY"
      },
      "execution_count": 10,
      "outputs": []
    },
    {
      "cell_type": "code",
      "source": [
        "def epoch_val(model, loader, criterion):\n",
        "    val_loss = 0\n",
        "    target_lst = []\n",
        "    output_lst = []\n",
        "    model.eval()\n",
        "    with torch.no_grad():\n",
        "        for data, target in loader:\n",
        "            data = data.to(device)\n",
        "            target = target.to(device)\n",
        "            output = model(data)\n",
        "            target_lst += target.tolist()\n",
        "            output_lst += output.tolist()\n",
        "            val_loss = criterion(output, target).item()\n",
        "    r2 = r2_score(target_lst, output_lst)\n",
        "    val_loss /= len(loader)\n",
        "    return val_loss, r2"
      ],
      "metadata": {
        "id": "5HpYLR5268O5"
      },
      "execution_count": 11,
      "outputs": []
    },
    {
      "cell_type": "code",
      "source": [
        "set_random_seeds(seed_value=RANDOM_SEED, device=device)\n",
        "\n",
        "mlp = MLP(6).to(device)"
      ],
      "metadata": {
        "id": "blmNnbeaCgSK"
      },
      "execution_count": 12,
      "outputs": []
    },
    {
      "cell_type": "code",
      "source": [
        "criterion = nn.MSELoss()\n",
        "opt = torch.optim.Adam(mlp.parameters())"
      ],
      "metadata": {
        "id": "LTqLsLgrQVAU"
      },
      "execution_count": 13,
      "outputs": []
    },
    {
      "cell_type": "code",
      "source": [
        "batch_size = 128\n",
        "\n",
        "train_loader = DataLoader(TensorDataset(X[idx_train], y[idx_train]), batch_size=batch_size, shuffle=True)\n",
        "val_loader = DataLoader(TensorDataset(X[idx_val], y[idx_val]), batch_size=batch_size, shuffle=False)\n",
        "test_loader = DataLoader(TensorDataset(X[idx_test], y[idx_test]), batch_size=batch_size, shuffle=False)"
      ],
      "metadata": {
        "id": "4_xWfytmZO4c"
      },
      "execution_count": 14,
      "outputs": []
    },
    {
      "cell_type": "code",
      "source": [
        "num_epochs = 75\n",
        "\n",
        "train_loss = []\n",
        "val_loss = []\n",
        "val_r2 = []\n",
        "test_loss = []\n",
        "test_r2 = []\n",
        "\n",
        "best_r2 = 0\n",
        "best_epoch = 0\n",
        "\n",
        "for i in tqdm(range(num_epochs)):\n",
        "    loss = epoch_train(mlp, train_loader, criterion, opt)\n",
        "    train_loss.append(np.sqrt(loss))\n",
        "\n",
        "    loss, r2 = epoch_val(mlp, val_loader, criterion)\n",
        "    val_loss.append(np.sqrt(loss))\n",
        "    val_r2.append(r2)\n",
        "    if r2 > best_r2:\n",
        "        best_epoch = i\n",
        "        best_r2 = r2\n",
        "\n",
        "\n",
        "    loss, r2 = epoch_val(mlp, test_loader, criterion)\n",
        "    test_loss.append(np.sqrt(loss))\n",
        "    test_r2.append(r2)\n",
        "    print('---------------------------------------------------------')\n",
        "    print(f'Epoch: {i}, Val R2: {val_r2[-1]}, Test R2: {test_r2[-1]}')"
      ],
      "metadata": {
        "colab": {
          "base_uri": "https://localhost:8080/"
        },
        "id": "0xqbAoLR85D-",
        "outputId": "e207fc15-0e9c-4520-b54d-db73aeca3b94"
      },
      "execution_count": 15,
      "outputs": [
        {
          "output_type": "stream",
          "name": "stderr",
          "text": [
            "  3%|▎         | 2/75 [00:00<00:14,  5.13it/s]"
          ]
        },
        {
          "output_type": "stream",
          "name": "stdout",
          "text": [
            "---------------------------------------------------------\n",
            "Epoch: 0, Val R2: -0.0026882756293522547, Test R2: 0.045387934859565604\n",
            "---------------------------------------------------------\n",
            "Epoch: 1, Val R2: 0.09440017095376008, Test R2: 0.1455411269728646\n"
          ]
        },
        {
          "output_type": "stream",
          "name": "stderr",
          "text": [
            "  5%|▌         | 4/75 [00:00<00:17,  4.09it/s]"
          ]
        },
        {
          "output_type": "stream",
          "name": "stdout",
          "text": [
            "---------------------------------------------------------\n",
            "Epoch: 2, Val R2: 0.15563058009933228, Test R2: 0.20056630234672712\n",
            "---------------------------------------------------------\n",
            "Epoch: 3, Val R2: 0.2006995847728017, Test R2: 0.2413663287999519\n"
          ]
        },
        {
          "output_type": "stream",
          "name": "stderr",
          "text": [
            "  8%|▊         | 6/75 [00:01<00:13,  4.94it/s]"
          ]
        },
        {
          "output_type": "stream",
          "name": "stdout",
          "text": [
            "---------------------------------------------------------\n",
            "Epoch: 4, Val R2: 0.22912843056832333, Test R2: 0.26253141660298496\n",
            "---------------------------------------------------------\n",
            "Epoch: 5, Val R2: 0.25388043088888346, Test R2: 0.27942908950855194\n"
          ]
        },
        {
          "output_type": "stream",
          "name": "stderr",
          "text": [
            "\r  9%|▉         | 7/75 [00:01<00:13,  5.00it/s]"
          ]
        },
        {
          "output_type": "stream",
          "name": "stdout",
          "text": [
            "---------------------------------------------------------\n",
            "Epoch: 6, Val R2: 0.2676683859168808, Test R2: 0.2903053357887936\n"
          ]
        },
        {
          "output_type": "stream",
          "name": "stderr",
          "text": [
            " 12%|█▏        | 9/75 [00:01<00:12,  5.33it/s]"
          ]
        },
        {
          "output_type": "stream",
          "name": "stdout",
          "text": [
            "---------------------------------------------------------\n",
            "Epoch: 7, Val R2: 0.28137437380784425, Test R2: 0.29466272222698564\n",
            "---------------------------------------------------------\n",
            "Epoch: 8, Val R2: 0.2887310873522524, Test R2: 0.2989290459828666\n"
          ]
        },
        {
          "output_type": "stream",
          "name": "stderr",
          "text": [
            " 15%|█▍        | 11/75 [00:02<00:11,  5.36it/s]"
          ]
        },
        {
          "output_type": "stream",
          "name": "stdout",
          "text": [
            "---------------------------------------------------------\n",
            "Epoch: 9, Val R2: 0.2937925812306573, Test R2: 0.30239812104260355\n",
            "---------------------------------------------------------\n",
            "Epoch: 10, Val R2: 0.29770634209339764, Test R2: 0.30371856198422154\n"
          ]
        },
        {
          "output_type": "stream",
          "name": "stderr",
          "text": [
            " 17%|█▋        | 13/75 [00:02<00:10,  5.65it/s]"
          ]
        },
        {
          "output_type": "stream",
          "name": "stdout",
          "text": [
            "---------------------------------------------------------\n",
            "Epoch: 11, Val R2: 0.30190180630655605, Test R2: 0.3070781877493185\n",
            "---------------------------------------------------------\n",
            "Epoch: 12, Val R2: 0.3126500519616936, Test R2: 0.31604538470159893\n"
          ]
        },
        {
          "output_type": "stream",
          "name": "stderr",
          "text": [
            " 20%|██        | 15/75 [00:02<00:09,  6.03it/s]"
          ]
        },
        {
          "output_type": "stream",
          "name": "stdout",
          "text": [
            "---------------------------------------------------------\n",
            "Epoch: 13, Val R2: 0.31258470951164363, Test R2: 0.31299526677419875\n",
            "---------------------------------------------------------\n",
            "Epoch: 14, Val R2: 0.3185120534927043, Test R2: 0.3220455052770427\n"
          ]
        },
        {
          "output_type": "stream",
          "name": "stderr",
          "text": [
            "\r 21%|██▏       | 16/75 [00:03<00:09,  6.47it/s]"
          ]
        },
        {
          "output_type": "stream",
          "name": "stdout",
          "text": [
            "---------------------------------------------------------\n",
            "Epoch: 15, Val R2: 0.3230206144378095, Test R2: 0.3272451607354284\n"
          ]
        },
        {
          "output_type": "stream",
          "name": "stderr",
          "text": [
            " 24%|██▍       | 18/75 [00:03<00:09,  6.08it/s]"
          ]
        },
        {
          "output_type": "stream",
          "name": "stdout",
          "text": [
            "---------------------------------------------------------\n",
            "Epoch: 16, Val R2: 0.32491928397668834, Test R2: 0.3282551879917712\n",
            "---------------------------------------------------------\n",
            "Epoch: 17, Val R2: 0.32773575717134007, Test R2: 0.3303356063850408\n"
          ]
        },
        {
          "output_type": "stream",
          "name": "stderr",
          "text": [
            " 27%|██▋       | 20/75 [00:03<00:09,  6.04it/s]"
          ]
        },
        {
          "output_type": "stream",
          "name": "stdout",
          "text": [
            "---------------------------------------------------------\n",
            "Epoch: 18, Val R2: 0.330978241624289, Test R2: 0.33102771986876667\n",
            "---------------------------------------------------------\n",
            "Epoch: 19, Val R2: 0.33668049118301413, Test R2: 0.33683947005713555\n"
          ]
        },
        {
          "output_type": "stream",
          "name": "stderr",
          "text": [
            "\r 28%|██▊       | 21/75 [00:03<00:09,  5.74it/s]"
          ]
        },
        {
          "output_type": "stream",
          "name": "stdout",
          "text": [
            "---------------------------------------------------------\n",
            "Epoch: 20, Val R2: 0.3367852738472896, Test R2: 0.33149987284055427\n"
          ]
        },
        {
          "output_type": "stream",
          "name": "stderr",
          "text": [
            " 31%|███       | 23/75 [00:04<00:09,  5.44it/s]"
          ]
        },
        {
          "output_type": "stream",
          "name": "stdout",
          "text": [
            "---------------------------------------------------------\n",
            "Epoch: 21, Val R2: 0.3399087624899888, Test R2: 0.33696073966328\n",
            "---------------------------------------------------------\n",
            "Epoch: 22, Val R2: 0.3450030084067809, Test R2: 0.3448767929326363\n"
          ]
        },
        {
          "output_type": "stream",
          "name": "stderr",
          "text": [
            " 33%|███▎      | 25/75 [00:04<00:08,  5.86it/s]"
          ]
        },
        {
          "output_type": "stream",
          "name": "stdout",
          "text": [
            "---------------------------------------------------------\n",
            "Epoch: 23, Val R2: 0.344720222724497, Test R2: 0.342485183725053\n",
            "---------------------------------------------------------\n",
            "Epoch: 24, Val R2: 0.35101033850167573, Test R2: 0.34777775335956773\n"
          ]
        },
        {
          "output_type": "stream",
          "name": "stderr",
          "text": [
            " 36%|███▌      | 27/75 [00:04<00:07,  6.37it/s]"
          ]
        },
        {
          "output_type": "stream",
          "name": "stdout",
          "text": [
            "---------------------------------------------------------\n",
            "Epoch: 25, Val R2: 0.3517254654420514, Test R2: 0.34879655543079313\n",
            "---------------------------------------------------------\n",
            "Epoch: 26, Val R2: 0.3510262266849914, Test R2: 0.3478599824231856\n"
          ]
        },
        {
          "output_type": "stream",
          "name": "stderr",
          "text": [
            " 39%|███▊      | 29/75 [00:05<00:07,  5.91it/s]"
          ]
        },
        {
          "output_type": "stream",
          "name": "stdout",
          "text": [
            "---------------------------------------------------------\n",
            "Epoch: 27, Val R2: 0.3536784044659389, Test R2: 0.3519651678521938\n",
            "---------------------------------------------------------\n",
            "Epoch: 28, Val R2: 0.3570539507385091, Test R2: 0.35556110472968905\n"
          ]
        },
        {
          "output_type": "stream",
          "name": "stderr",
          "text": [
            " 41%|████▏     | 31/75 [00:05<00:07,  5.69it/s]"
          ]
        },
        {
          "output_type": "stream",
          "name": "stdout",
          "text": [
            "---------------------------------------------------------\n",
            "Epoch: 29, Val R2: 0.3572595636922782, Test R2: 0.3577333209757326\n",
            "---------------------------------------------------------\n",
            "Epoch: 30, Val R2: 0.3595321909952929, Test R2: 0.3591631755197269\n"
          ]
        },
        {
          "output_type": "stream",
          "name": "stderr",
          "text": [
            " 44%|████▍     | 33/75 [00:05<00:07,  5.98it/s]"
          ]
        },
        {
          "output_type": "stream",
          "name": "stdout",
          "text": [
            "---------------------------------------------------------\n",
            "Epoch: 31, Val R2: 0.3613820526985082, Test R2: 0.3590167872827319\n",
            "---------------------------------------------------------\n",
            "Epoch: 32, Val R2: 0.3622028874107417, Test R2: 0.3608911451535465\n"
          ]
        },
        {
          "output_type": "stream",
          "name": "stderr",
          "text": [
            " 47%|████▋     | 35/75 [00:06<00:07,  5.57it/s]"
          ]
        },
        {
          "output_type": "stream",
          "name": "stdout",
          "text": [
            "---------------------------------------------------------\n",
            "Epoch: 33, Val R2: 0.3646436591356005, Test R2: 0.36788060443366444\n",
            "---------------------------------------------------------\n",
            "Epoch: 34, Val R2: 0.3630242610674401, Test R2: 0.35910806185201205\n"
          ]
        },
        {
          "output_type": "stream",
          "name": "stderr",
          "text": [
            " 49%|████▉     | 37/75 [00:06<00:06,  6.03it/s]"
          ]
        },
        {
          "output_type": "stream",
          "name": "stdout",
          "text": [
            "---------------------------------------------------------\n",
            "Epoch: 35, Val R2: 0.3663832355707467, Test R2: 0.36469278027663266\n",
            "---------------------------------------------------------\n",
            "Epoch: 36, Val R2: 0.36716276020660077, Test R2: 0.3646664992360603\n"
          ]
        },
        {
          "output_type": "stream",
          "name": "stderr",
          "text": [
            " 52%|█████▏    | 39/75 [00:06<00:06,  5.88it/s]"
          ]
        },
        {
          "output_type": "stream",
          "name": "stdout",
          "text": [
            "---------------------------------------------------------\n",
            "Epoch: 37, Val R2: 0.36697420787782753, Test R2: 0.3648610152919902\n",
            "---------------------------------------------------------\n",
            "Epoch: 38, Val R2: 0.3700632065903897, Test R2: 0.372582029507843\n"
          ]
        },
        {
          "output_type": "stream",
          "name": "stderr",
          "text": [
            "\r 53%|█████▎    | 40/75 [00:07<00:05,  5.84it/s]"
          ]
        },
        {
          "output_type": "stream",
          "name": "stdout",
          "text": [
            "---------------------------------------------------------\n",
            "Epoch: 39, Val R2: 0.3690342163121856, Test R2: 0.3663410313230848\n"
          ]
        },
        {
          "output_type": "stream",
          "name": "stderr",
          "text": [
            " 56%|█████▌    | 42/75 [00:07<00:05,  5.59it/s]"
          ]
        },
        {
          "output_type": "stream",
          "name": "stdout",
          "text": [
            "---------------------------------------------------------\n",
            "Epoch: 40, Val R2: 0.36915818584752824, Test R2: 0.3678914661878021\n",
            "---------------------------------------------------------\n",
            "Epoch: 41, Val R2: 0.36929177931477875, Test R2: 0.3718282149499491\n"
          ]
        },
        {
          "output_type": "stream",
          "name": "stderr",
          "text": [
            " 59%|█████▊    | 44/75 [00:07<00:05,  5.67it/s]"
          ]
        },
        {
          "output_type": "stream",
          "name": "stdout",
          "text": [
            "---------------------------------------------------------\n",
            "Epoch: 42, Val R2: 0.37057195908914775, Test R2: 0.3716350200573598\n",
            "---------------------------------------------------------\n",
            "Epoch: 43, Val R2: 0.37183717493500734, Test R2: 0.373907953936488\n"
          ]
        },
        {
          "output_type": "stream",
          "name": "stderr",
          "text": [
            " 61%|██████▏   | 46/75 [00:08<00:04,  5.83it/s]"
          ]
        },
        {
          "output_type": "stream",
          "name": "stdout",
          "text": [
            "---------------------------------------------------------\n",
            "Epoch: 44, Val R2: 0.376447371424689, Test R2: 0.37802154785189923\n",
            "---------------------------------------------------------\n",
            "Epoch: 45, Val R2: 0.3738072478553154, Test R2: 0.3722640500197938\n"
          ]
        },
        {
          "output_type": "stream",
          "name": "stderr",
          "text": [
            " 64%|██████▍   | 48/75 [00:08<00:04,  6.31it/s]"
          ]
        },
        {
          "output_type": "stream",
          "name": "stdout",
          "text": [
            "---------------------------------------------------------\n",
            "Epoch: 46, Val R2: 0.3763536829725703, Test R2: 0.3754212878640869\n",
            "---------------------------------------------------------\n",
            "Epoch: 47, Val R2: 0.37538202747495586, Test R2: 0.3706552257112641\n"
          ]
        },
        {
          "output_type": "stream",
          "name": "stderr",
          "text": [
            " 67%|██████▋   | 50/75 [00:08<00:03,  6.42it/s]"
          ]
        },
        {
          "output_type": "stream",
          "name": "stdout",
          "text": [
            "---------------------------------------------------------\n",
            "Epoch: 48, Val R2: 0.3770842219033944, Test R2: 0.37710534093472514\n",
            "---------------------------------------------------------\n",
            "Epoch: 49, Val R2: 0.3753401326650446, Test R2: 0.3727783778069318\n"
          ]
        },
        {
          "output_type": "stream",
          "name": "stderr",
          "text": [
            " 69%|██████▉   | 52/75 [00:09<00:03,  6.08it/s]"
          ]
        },
        {
          "output_type": "stream",
          "name": "stdout",
          "text": [
            "---------------------------------------------------------\n",
            "Epoch: 50, Val R2: 0.3755761765568423, Test R2: 0.37833826458524555\n",
            "---------------------------------------------------------\n",
            "Epoch: 51, Val R2: 0.3776718194579526, Test R2: 0.3790356278571839\n"
          ]
        },
        {
          "output_type": "stream",
          "name": "stderr",
          "text": [
            " 72%|███████▏  | 54/75 [00:09<00:03,  6.43it/s]"
          ]
        },
        {
          "output_type": "stream",
          "name": "stdout",
          "text": [
            "---------------------------------------------------------\n",
            "Epoch: 52, Val R2: 0.37497250427014206, Test R2: 0.37352402277728747\n",
            "---------------------------------------------------------\n",
            "Epoch: 53, Val R2: 0.37894734369211047, Test R2: 0.38116765852799483\n"
          ]
        },
        {
          "output_type": "stream",
          "name": "stderr",
          "text": [
            " 75%|███████▍  | 56/75 [00:09<00:02,  6.70it/s]"
          ]
        },
        {
          "output_type": "stream",
          "name": "stdout",
          "text": [
            "---------------------------------------------------------\n",
            "Epoch: 54, Val R2: 0.37589821385678124, Test R2: 0.3749358643348656\n",
            "---------------------------------------------------------\n",
            "Epoch: 55, Val R2: 0.3805650679334789, Test R2: 0.3822606099319631\n"
          ]
        },
        {
          "output_type": "stream",
          "name": "stderr",
          "text": [
            " 77%|███████▋  | 58/75 [00:10<00:02,  6.36it/s]"
          ]
        },
        {
          "output_type": "stream",
          "name": "stdout",
          "text": [
            "---------------------------------------------------------\n",
            "Epoch: 56, Val R2: 0.3795071950868607, Test R2: 0.3837378717008266\n",
            "---------------------------------------------------------\n",
            "Epoch: 57, Val R2: 0.379286400113206, Test R2: 0.37451440703531846\n"
          ]
        },
        {
          "output_type": "stream",
          "name": "stderr",
          "text": [
            " 81%|████████▏ | 61/75 [00:10<00:01,  8.10it/s]"
          ]
        },
        {
          "output_type": "stream",
          "name": "stdout",
          "text": [
            "---------------------------------------------------------\n",
            "Epoch: 58, Val R2: 0.37889167510322597, Test R2: 0.3817358622639131\n",
            "---------------------------------------------------------\n",
            "Epoch: 59, Val R2: 0.3831978485593165, Test R2: 0.38077055050528485\n",
            "---------------------------------------------------------\n",
            "Epoch: 60, Val R2: 0.38575867614290715, Test R2: 0.38721055059588627\n"
          ]
        },
        {
          "output_type": "stream",
          "name": "stderr",
          "text": [
            " 85%|████████▌ | 64/75 [00:10<00:01,  8.74it/s]"
          ]
        },
        {
          "output_type": "stream",
          "name": "stdout",
          "text": [
            "---------------------------------------------------------\n",
            "Epoch: 61, Val R2: 0.3817924674166693, Test R2: 0.38241310947658136\n",
            "---------------------------------------------------------\n",
            "Epoch: 62, Val R2: 0.3824064885820634, Test R2: 0.3805741627038751\n",
            "---------------------------------------------------------\n",
            "Epoch: 63, Val R2: 0.38310216752443305, Test R2: 0.3807807239558898\n"
          ]
        },
        {
          "output_type": "stream",
          "name": "stderr",
          "text": [
            "\r 88%|████████▊ | 66/75 [00:10<00:01,  8.27it/s]"
          ]
        },
        {
          "output_type": "stream",
          "name": "stdout",
          "text": [
            "---------------------------------------------------------\n",
            "Epoch: 64, Val R2: 0.38337242062303967, Test R2: 0.385752482424941\n",
            "---------------------------------------------------------\n",
            "Epoch: 65, Val R2: 0.3850411733276744, Test R2: 0.37993199942825495\n"
          ]
        },
        {
          "output_type": "stream",
          "name": "stderr",
          "text": [
            " 91%|█████████ | 68/75 [00:11<00:00,  7.33it/s]"
          ]
        },
        {
          "output_type": "stream",
          "name": "stdout",
          "text": [
            "---------------------------------------------------------\n",
            "Epoch: 66, Val R2: 0.38588959735979744, Test R2: 0.378221022317492\n",
            "---------------------------------------------------------\n",
            "Epoch: 67, Val R2: 0.38777721579242874, Test R2: 0.387815967772998\n"
          ]
        },
        {
          "output_type": "stream",
          "name": "stderr",
          "text": [
            " 97%|█████████▋| 73/75 [00:11<00:00, 12.89it/s]"
          ]
        },
        {
          "output_type": "stream",
          "name": "stdout",
          "text": [
            "---------------------------------------------------------\n",
            "Epoch: 68, Val R2: 0.3847987467477889, Test R2: 0.3744442115684026\n",
            "---------------------------------------------------------\n",
            "Epoch: 69, Val R2: 0.38805215873295706, Test R2: 0.3865021906542442\n",
            "---------------------------------------------------------\n",
            "Epoch: 70, Val R2: 0.3849472529021034, Test R2: 0.37887936561990343\n",
            "---------------------------------------------------------\n",
            "Epoch: 71, Val R2: 0.386840141394558, Test R2: 0.38265061253559907\n",
            "---------------------------------------------------------\n",
            "Epoch: 72, Val R2: 0.3843009509700376, Test R2: 0.38780481971826697\n"
          ]
        },
        {
          "output_type": "stream",
          "name": "stderr",
          "text": [
            "\r100%|██████████| 75/75 [00:11<00:00,  6.45it/s]"
          ]
        },
        {
          "output_type": "stream",
          "name": "stdout",
          "text": [
            "---------------------------------------------------------\n",
            "Epoch: 73, Val R2: 0.3813674238687301, Test R2: 0.38319146146332583\n",
            "---------------------------------------------------------\n",
            "Epoch: 74, Val R2: 0.385774371074625, Test R2: 0.3867318476931504\n"
          ]
        },
        {
          "output_type": "stream",
          "name": "stderr",
          "text": [
            "\n"
          ]
        }
      ]
    },
    {
      "cell_type": "code",
      "source": [
        "plt.figure(figsize=(12,8))\n",
        "plt.plot(val_loss, label='Validation')\n",
        "plt.plot(test_loss, label='Test')\n",
        "plt.legend(fontsize=14)\n",
        "plt.title('Loss', size=16)\n",
        "plt.xlabel('Epoch', size=14)\n",
        "plt.show()"
      ],
      "metadata": {
        "colab": {
          "base_uri": "https://localhost:8080/",
          "height": 519
        },
        "id": "iOYfhBPyFQcK",
        "outputId": "a00ab73f-5dd2-4edb-915d-8ef8b1f699e5"
      },
      "execution_count": 16,
      "outputs": [
        {
          "output_type": "display_data",
          "data": {
            "text/plain": [
              "<Figure size 864x576 with 1 Axes>"
            ],
            "image/png": "[encoded data removed]"
          },
          "metadata": {
            "needs_background": "light"
          }
        }
      ]
    },
    {
      "cell_type": "code",
      "source": [
        "plt.figure(figsize=(12,8))\n",
        "plt.plot(val_r2, label='Validation')\n",
        "plt.plot(test_r2, label='Test')\n",
        "plt.legend(fontsize=14)\n",
        "plt.title('R2 Coefficient of Determination', size=16)\n",
        "plt.xlabel('Epoch', size=14)\n",
        "plt.show()"
      ],
      "metadata": {
        "colab": {
          "base_uri": "https://localhost:8080/",
          "height": 519
        },
        "id": "kS-2HiLdGEdF",
        "outputId": "f97a5588-8133-456a-ec98-9599d83a116f"
      },
      "execution_count": 17,
      "outputs": [
        {
          "output_type": "display_data",
          "data": {
            "text/plain": [
              "<Figure size 864x576 with 1 Axes>"
            ],
            "image/png": "[encoded data removed]"
          },
          "metadata": {
            "needs_background": "light"
          }
        }
      ]
    },
    {
      "cell_type": "code",
      "source": [
        "print('Best epoch:', best_epoch)"
      ],
      "metadata": {
        "colab": {
          "base_uri": "https://localhost:8080/"
        },
        "id": "bjqOZX11cm4k",
        "outputId": "79c8aebf-1c65-48c1-ec7f-63d0a088c9e0"
      },
      "execution_count": 18,
      "outputs": [
        {
          "output_type": "stream",
          "name": "stdout",
          "text": [
            "Best epoch: 69\n"
          ]
        }
      ]
    },
    {
      "cell_type": "code",
      "source": [
        "set_random_seeds(seed_value=RANDOM_SEED, device=device)\n",
        "\n",
        "mlp = MLP(6).to(device)\n",
        "criterion = nn.MSELoss()\n",
        "opt = torch.optim.Adam(mlp.parameters())"
      ],
      "metadata": {
        "id": "5RrKkqQoJTDp"
      },
      "execution_count": 19,
      "outputs": []
    },
    {
      "cell_type": "code",
      "source": [
        "train_val_loader = DataLoader(TensorDataset(X[idx_train_val], y[idx_train_val]), batch_size=batch_size, shuffle=True)"
      ],
      "metadata": {
        "id": "qQ6JkKm2eZ2a"
      },
      "execution_count": 20,
      "outputs": []
    },
    {
      "cell_type": "code",
      "source": [
        "for i in tqdm(range(best_epoch)):\n",
        "    loss = epoch_train(mlp, train_val_loader, criterion, opt)\n",
        "\n",
        "loss, r2 = epoch_val(mlp, test_loader, criterion)\n",
        "print(f'Epoch: {best_epoch}, Test R2: {r2}')"
      ],
      "metadata": {
        "colab": {
          "base_uri": "https://localhost:8080/"
        },
        "id": "79n10ABicgOz",
        "outputId": "fc304a77-4543-4a43-cc45-455ba0129b84"
      },
      "execution_count": 21,
      "outputs": [
        {
          "output_type": "stream",
          "name": "stderr",
          "text": [
            "100%|██████████| 69/69 [00:03<00:00, 22.91it/s]"
          ]
        },
        {
          "output_type": "stream",
          "name": "stdout",
          "text": [
            "Epoch: 69, Test R2: 0.3928638308391693\n"
          ]
        },
        {
          "output_type": "stream",
          "name": "stderr",
          "text": [
            "\n"
          ]
        }
      ]
    },
    {
      "cell_type": "code",
      "source": [
        "with torch.no_grad():\n",
        "    pred_train_val = mlp(X[idx_train_val].to(device)).cpu()\n",
        "    pred_test = mlp(X[idx_test].to(device)).cpu()"
      ],
      "metadata": {
        "id": "sy5AyqW8qn2r"
      },
      "execution_count": 108,
      "outputs": []
    },
    {
      "cell_type": "markdown",
      "source": [
        "# Label Propagation"
      ],
      "metadata": {
        "id": "6_0LAp8Q6E82"
      }
    },
    {
      "cell_type": "markdown",
      "source": [
        "## GPyTorch CG"
      ],
      "metadata": {
        "id": "XIdDblGRoR7Y"
      }
    },
    {
      "cell_type": "code",
      "source": [
        "def label_propagation(adj, y_train, idx_train, idx_test, pred_train=None, pred_test=None):\n",
        "    '''\n",
        "    Attributes\n",
        "    ----------\n",
        "    adj: torch.sparse.FloatTensor\n",
        "        normalized adjacency matrix\n",
        "    '''\n",
        "    L = torch.eye(len(adj)) - adj\n",
        "    res_test = torch.zeros(len(idx_test), 1)\n",
        "    if pred_train is None:\n",
        "        res_train = y_train\n",
        "    else:\n",
        "        res_train = y_train - pred_train\n",
        "    A = L[idx_test, :][:, idx_test]\n",
        "    b = -L[idx_test, :][:, idx_train] @ res_train\n",
        "    res_test = linear_cg(A, b)\n",
        "    if pred_test is None:\n",
        "        z = res_test\n",
        "    else:\n",
        "        z = pred_test + res_test\n",
        "    return z"
      ],
      "metadata": {
        "id": "6F25q8Xid_nF"
      },
      "execution_count": 101,
      "outputs": []
    },
    {
      "cell_type": "code",
      "source": [
        "%timeit label_propagation(adj, y[idx_train_val], idx_train_val, idx_test)"
      ],
      "metadata": {
        "id": "qeIvppKvDj2v",
        "colab": {
          "base_uri": "https://localhost:8080/"
        },
        "outputId": "6fd63738-3d87-4cac-fde1-c43511783189"
      },
      "execution_count": 102,
      "outputs": [
        {
          "output_type": "stream",
          "name": "stdout",
          "text": [
            "10 loops, best of 5: 40 ms per loop\n"
          ]
        }
      ]
    },
    {
      "cell_type": "code",
      "source": [
        "z = label_propagation(adj, y[idx_train_val], idx_train_val, idx_test)"
      ],
      "metadata": {
        "id": "D47NW55UjrVR"
      },
      "execution_count": 103,
      "outputs": []
    },
    {
      "cell_type": "code",
      "source": [
        "r2_score(z, y[idx_test])"
      ],
      "metadata": {
        "colab": {
          "base_uri": "https://localhost:8080/"
        },
        "id": "H8XycHYVDvLZ",
        "outputId": "a9a9743b-57b7-46aa-f16a-06f43d47f2dc"
      },
      "execution_count": 104,
      "outputs": [
        {
          "output_type": "execute_result",
          "data": {
            "text/plain": [
              "0.41428293947116124"
            ]
          },
          "metadata": {},
          "execution_count": 104
        }
      ]
    },
    {
      "cell_type": "markdown",
      "source": [
        "## SciPy CG"
      ],
      "metadata": {
        "id": "4R5udM4poXeO"
      }
    },
    {
      "cell_type": "code",
      "source": [
        "def label_propagation_scipy(adj, y_train, idx_train, idx_test, pred_train=None, pred_test=None):\n",
        "    '''\n",
        "    Attributes\n",
        "    ----------\n",
        "    adj: scipy.sparse\n",
        "        normalized adjacency matrix\n",
        "    '''\n",
        "    L = scipy.sparse.eye(adj.shape[0]) - adj\n",
        "    z = np.zeros((len(idx_test), 1))\n",
        "    if pred_train is None:\n",
        "        res_train = y_train\n",
        "    else:\n",
        "        res_train = y_train - pred_train\n",
        "    A = L[idx_test, :][:, idx_test]\n",
        "    b = -L[idx_test, :][:, idx_train] @ res_train\n",
        "    res_test = cg(A, b)[0].reshape(-1, 1)\n",
        "    if pred_test is None:\n",
        "        z = res_test\n",
        "    else:\n",
        "        z = pred_test + res_test\n",
        "    return z"
      ],
      "metadata": {
        "id": "q_i3k-I8T8Ed"
      },
      "execution_count": 125,
      "outputs": []
    },
    {
      "cell_type": "code",
      "source": [
        "adj_sp = scipy.sparse.csr_matrix(adj.to_dense())"
      ],
      "metadata": {
        "id": "JhhHin_tU06-"
      },
      "execution_count": 112,
      "outputs": []
    },
    {
      "cell_type": "code",
      "source": [
        "%timeit label_propagation_scipy(adj_sp, y[idx_train_val].numpy(), idx_train_val.numpy(), idx_test.numpy())"
      ],
      "metadata": {
        "colab": {
          "base_uri": "https://localhost:8080/"
        },
        "id": "YIP773VlVJAi",
        "outputId": "4c13bc8d-6423-488b-f069-6adbfaac4f6f"
      },
      "execution_count": 113,
      "outputs": [
        {
          "output_type": "stream",
          "name": "stdout",
          "text": [
            "100 loops, best of 5: 2.02 ms per loop\n"
          ]
        }
      ]
    },
    {
      "cell_type": "code",
      "source": [
        "z = label_propagation_scipy(adj_sp, y[idx_train_val].numpy(), idx_train_val.numpy(), idx_test.numpy())"
      ],
      "metadata": {
        "id": "undYc067jzp5"
      },
      "execution_count": 114,
      "outputs": []
    },
    {
      "cell_type": "code",
      "source": [
        "r2_score(z, y[idx_test])"
      ],
      "metadata": {
        "colab": {
          "base_uri": "https://localhost:8080/"
        },
        "id": "9zBeTayiVflQ",
        "outputId": "8f419558-4691-466f-891f-9c6bce053c5f"
      },
      "execution_count": 115,
      "outputs": [
        {
          "output_type": "execute_result",
          "data": {
            "text/plain": [
              "0.41428299093056464"
            ]
          },
          "metadata": {},
          "execution_count": 115
        }
      ]
    },
    {
      "cell_type": "markdown",
      "source": [
        "# LP-MLP"
      ],
      "metadata": {
        "id": "hJ9N27BwI9oI"
      }
    },
    {
      "cell_type": "code",
      "source": [
        "z = label_propagation(adj, y[idx_train_val], idx_train_val, idx_test, pred_train_val, pred_test)"
      ],
      "metadata": {
        "id": "b8nM8NmUHgYA"
      },
      "execution_count": 109,
      "outputs": []
    },
    {
      "cell_type": "code",
      "source": [
        "r2_score(z, y[idx_test])"
      ],
      "metadata": {
        "colab": {
          "base_uri": "https://localhost:8080/"
        },
        "id": "pCwaFKEFsvdP",
        "outputId": "98c11757-0fdc-43cb-c761-05eb751fefbc"
      },
      "execution_count": 110,
      "outputs": [
        {
          "output_type": "execute_result",
          "data": {
            "text/plain": [
              "0.573937922641211"
            ]
          },
          "metadata": {},
          "execution_count": 110
        }
      ]
    },
    {
      "cell_type": "code",
      "source": [
        "z = label_propagation_scipy(adj_sp, y[idx_train_val], idx_train_val, idx_test, pred_train_val, pred_test)"
      ],
      "metadata": {
        "id": "I-vFg8xAyjnV"
      },
      "execution_count": 126,
      "outputs": []
    },
    {
      "cell_type": "code",
      "source": [
        "r2_score(z, y[idx_test])"
      ],
      "metadata": {
        "colab": {
          "base_uri": "https://localhost:8080/"
        },
        "id": "cy_c42HVylin",
        "outputId": "9c582ddf-f8dd-4a40-b277-62186fbf13b5"
      },
      "execution_count": 127,
      "outputs": [
        {
          "output_type": "execute_result",
          "data": {
            "text/plain": [
              "0.5739369018726643"
            ]
          },
          "metadata": {},
          "execution_count": 127
        }
      ]
    },
    {
      "cell_type": "code",
      "source": [
        ""
      ],
      "metadata": {
        "id": "s-jwtQdqyoa7"
      },
      "execution_count": null,
      "outputs": []
    }
  ]
}