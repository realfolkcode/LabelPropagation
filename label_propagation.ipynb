{
  "nbformat": 4,
  "nbformat_minor": 0,
  "metadata": {
    "colab": {
      "name": "label-propagation.ipynb",
      "provenance": [],
      "collapsed_sections": [],
      "authorship_tag": "ABX9TyN27wIEcII8KoaFBI/gFi5P",
      "include_colab_link": true
    },
    "kernelspec": {
      "name": "python3",
      "display_name": "Python 3"
    },
    "language_info": {
      "name": "python"
    }
  },
  "cells": [
    {
      "cell_type": "markdown",
      "metadata": {
        "id": "view-in-github",
        "colab_type": "text"
      },
      "source": [
        "<a href=\"https://colab.research.google.com/github/realfolkcode/GraphRegression/blob/master/label_propagation.ipynb\" target=\"_parent\"><img src=\"https://colab.research.google.com/assets/colab-badge.svg\" alt=\"Open In Colab\"/></a>"
      ]
    },
    {
      "cell_type": "markdown",
      "source": [
        "# Import and Install"
      ],
      "metadata": {
        "id": "xNHURTWF2njW"
      }
    },
    {
      "cell_type": "code",
      "source": [
        "import numpy as np\n",
        "import torch\n",
        "import matplotlib.pyplot as plt\n",
        "%matplotlib inline"
      ],
      "metadata": {
        "id": "iwSobebe0bpN"
      },
      "execution_count": 37,
      "outputs": []
    },
    {
      "cell_type": "code",
      "execution_count": 1,
      "metadata": {
        "id": "0_s99v0ivveH",
        "colab": {
          "base_uri": "https://localhost:8080/"
        },
        "outputId": "698eb252-189c-4a68-be31-c42a5ff11edb"
      },
      "outputs": [
        {
          "output_type": "stream",
          "name": "stdout",
          "text": [
            "Cloning into 'GraphRegression'...\n",
            "remote: Enumerating objects: 119, done.\u001b[K\n",
            "remote: Counting objects: 100% (119/119), done.\u001b[K\n",
            "remote: Compressing objects: 100% (85/85), done.\u001b[K\n",
            "remote: Total 119 (delta 41), reused 90 (delta 25), pack-reused 0\u001b[K\n",
            "Receiving objects: 100% (119/119), 293.51 KiB | 317.00 KiB/s, done.\n",
            "Resolving deltas: 100% (41/41), done.\n"
          ]
        }
      ],
      "source": [
        "!git clone https://github.com/realfolkcode/GraphRegression.git"
      ]
    },
    {
      "cell_type": "code",
      "source": [
        "from GraphRegression.utils import load_jj_data"
      ],
      "metadata": {
        "id": "ORiBZxMMyROR"
      },
      "execution_count": 3,
      "outputs": []
    },
    {
      "cell_type": "markdown",
      "source": [
        "# Process Data"
      ],
      "metadata": {
        "id": "Xo55EtPj2sL1"
      }
    },
    {
      "cell_type": "code",
      "source": [
        "path = \"GraphRegression/data/county/election/2012\"\n",
        "adj, features, target, idx_train, idx_val, idx_test = load_jj_data(path)\n",
        "\n",
        "print(\"adj:\", adj.shape)\n",
        "print(\"features:\", features.shape)\n",
        "print(\"labels:\", target.shape)\n",
        "print(\"idx_train:\", idx_train.shape)\n",
        "print(\"idx_val:\", idx_val.shape)\n",
        "print(\"idx_test:\", idx_test.shape)"
      ],
      "metadata": {
        "colab": {
          "base_uri": "https://localhost:8080/"
        },
        "id": "m0YwexjL0htT",
        "outputId": "4e8463d2-1686-422e-a6ed-93883c3479d5"
      },
      "execution_count": 15,
      "outputs": [
        {
          "output_type": "stream",
          "name": "stdout",
          "text": [
            "adj: torch.Size([3234, 3234])\n",
            "features: torch.Size([3234, 6])\n",
            "labels: torch.Size([3234])\n",
            "idx_train: torch.Size([1941])\n",
            "idx_val: torch.Size([646])\n",
            "idx_test: torch.Size([647])\n"
          ]
        }
      ]
    },
    {
      "cell_type": "code",
      "source": [
        "plt.hist(target)\n",
        "plt.title('Target distribution')\n",
        "plt.show()"
      ],
      "metadata": {
        "colab": {
          "base_uri": "https://localhost:8080/",
          "height": 281
        },
        "id": "eV87JbM_16Q_",
        "outputId": "8ea7007c-c733-4d39-f464-f1a238b22e38"
      },
      "execution_count": 16,
      "outputs": [
        {
          "output_type": "display_data",
          "data": {
            "text/plain": [
              "<Figure size 432x288 with 1 Axes>"
            ],
            "image/png": "[encoded data removed]"
          },
          "metadata": {
            "needs_background": "light"
          }
        }
      ]
    },
    {
      "cell_type": "code",
      "source": [
        ""
      ],
      "metadata": {
        "id": "AetzJY5Y6HCV"
      },
      "execution_count": null,
      "outputs": []
    }
  ]
}